{
  "nbformat": 4,
  "nbformat_minor": 0,
  "metadata": {
    "colab": {
      "provenance": [],
      "authorship_tag": "ABX9TyPrEYMSRIfgHoX3n9JXiX1P",
      "include_colab_link": true
    },
    "kernelspec": {
      "name": "python3",
      "display_name": "Python 3"
    },
    "language_info": {
      "name": "python"
    }
  },
  "cells": [
    {
      "cell_type": "markdown",
      "metadata": {
        "id": "view-in-github",
        "colab_type": "text"
      },
      "source": [
        "<a href=\"https://colab.research.google.com/github/Sohamkantijana/LGMDataScience/blob/main/Task2.ipynb\" target=\"_parent\"><img src=\"https://colab.research.google.com/assets/colab-badge.svg\" alt=\"Open In Colab\"/></a>"
      ]
    },
    {
      "cell_type": "markdown",
      "source": [
        "Stock Prize Prediction Using LSTM Model"
      ],
      "metadata": {
        "id": "Pft217Z4Vmh_"
      }
    },
    {
      "cell_type": "markdown",
      "source": [
        "![0_OWTgnJNmg3dYEZU5.png](data:image/png;base64,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)"
      ],
      "metadata": {
        "id": "3IUggKPDV8wk"
      }
    },
    {
      "cell_type": "markdown",
      "source": [
        ">Begin by loading the dataset. Copy the data and paste it into an Excel file, then save it as a .csv file.\n",
        ">Next, import the dataset into Python.\n",
        "Proceed to extract the closing values of the shares and assign an index to each value.\n",
        ">Plot a graph based on this data to gain insights into the share prices over time.\n",
        ">Normalize the dataset, converting the share values to a range between 0 and 1.\n",
        ">This will be useful for training and testing the dataset.\n",
        "Train and test the data using the last 25% of the dataset, which was set aside for this purpose.\n",
        ">Create a stacked LSTM model.\n",
        ">Once the model is created, train it using the dataset 100 times to achieve more precise predictions and improved accuracy.\n",
        ">Finally, plot a graph to visualize the data. Focus on the last 100 days of stock prices, the next 30 days of stock prices, as well as the continuous curve for the 100+30 day period."
      ],
      "metadata": {
        "id": "FEdwOt9nVuqF"
      }
    },
    {
      "cell_type": "code",
      "source": [
        "import pandas as pd\n",
        "import numpy as np\n",
        "import math\n",
        "import seaborn as sns\n",
        "import matplotlib.pyplot as plt\n",
        "from sklearn.preprocessing import MinMaxScaler\n",
        "from sklearn.metrics import mean_squared_error\n",
        "import tensorflow as tf\n",
        "from tensorflow.python.keras.models import Sequential\n",
        "from tensorflow.python.keras.layers import Dense\n",
        "from tensorflow.python.keras.layers import LSTM\n",
        "%matplotlib inline\n",
        "from warnings import filterwarnings\n",
        "filterwarnings(\"ignore\")\n",
        "\n",
        "\n"
      ],
      "metadata": {
        "id": "Ikbu56xfRtLe"
      },
      "execution_count": null,
      "outputs": []
    },
    {
      "cell_type": "code",
      "source": [
        "df=pd.read_csv('/content/Stock prize prediction.csv')\n",
        "df"
      ],
      "metadata": {
        "colab": {
          "base_uri": "https://localhost:8080/",
          "height": 1233
        },
        "id": "yLddDCZ9TgQK",
        "outputId": "350b9cf1-ce28-42ff-a569-dc135ced608d"
      },
      "execution_count": null,
      "outputs": [
        {
          "output_type": "execute_result",
          "data": {
            "text/plain": [
              "           Date    Open  ...  Turnover (Lacs)  Unnamed: 8\n",
              "0     9/28/2018  234.05  ...          7162.35         NaN\n",
              "1     9/27/2018  234.55  ...         11859.95         NaN\n",
              "2     9/26/2018  240.00  ...          5248.60         NaN\n",
              "3     9/25/2018  233.30  ...          5503.90         NaN\n",
              "4     9/24/2018  233.55  ...          7999.55         NaN\n",
              "...         ...     ...  ...              ...         ...\n",
              "2030  7/27/2010  117.60  ...           694.98         NaN\n",
              "2031  7/26/2010  120.10  ...           780.01         NaN\n",
              "2032  7/23/2010  121.80  ...           340.31         NaN\n",
              "2033  7/22/2010  120.30  ...           355.17         NaN\n",
              "2034  7/21/2010  122.10  ...           803.56         NaN\n",
              "\n",
              "[2035 rows x 9 columns]"
            ],
            "text/html": [
              "\n",
              "\n",
              "  <div id=\"df-dbc7339a-e58e-4e00-a640-bde8123b85c3\">\n",
              "    <div class=\"colab-df-container\">\n",
              "      <div>\n",
              "<style scoped>\n",
              "    .dataframe tbody tr th:only-of-type {\n",
              "        vertical-align: middle;\n",
              "    }\n",
              "\n",
              "    .dataframe tbody tr th {\n",
              "        vertical-align: top;\n",
              "    }\n",
              "\n",
              "    .dataframe thead th {\n",
              "        text-align: right;\n",
              "    }\n",
              "</style>\n",
              "<table border=\"1\" class=\"dataframe\">\n",
              "  <thead>\n",
              "    <tr style=\"text-align: right;\">\n",
              "      <th></th>\n",
              "      <th>Date</th>\n",
              "      <th>Open</th>\n",
              "      <th>High</th>\n",
              "      <th>Low</th>\n",
              "      <th>Last</th>\n",
              "      <th>Close</th>\n",
              "      <th>Total Trade Quantity</th>\n",
              "      <th>Turnover (Lacs)</th>\n",
              "      <th>Unnamed: 8</th>\n",
              "    </tr>\n",
              "  </thead>\n",
              "  <tbody>\n",
              "    <tr>\n",
              "      <th>0</th>\n",
              "      <td>9/28/2018</td>\n",
              "      <td>234.05</td>\n",
              "      <td>235.95</td>\n",
              "      <td>230.20</td>\n",
              "      <td>233.50</td>\n",
              "      <td>233.75</td>\n",
              "      <td>3069914</td>\n",
              "      <td>7162.35</td>\n",
              "      <td>NaN</td>\n",
              "    </tr>\n",
              "    <tr>\n",
              "      <th>1</th>\n",
              "      <td>9/27/2018</td>\n",
              "      <td>234.55</td>\n",
              "      <td>236.80</td>\n",
              "      <td>231.10</td>\n",
              "      <td>233.80</td>\n",
              "      <td>233.25</td>\n",
              "      <td>5082859</td>\n",
              "      <td>11859.95</td>\n",
              "      <td>NaN</td>\n",
              "    </tr>\n",
              "    <tr>\n",
              "      <th>2</th>\n",
              "      <td>9/26/2018</td>\n",
              "      <td>240.00</td>\n",
              "      <td>240.00</td>\n",
              "      <td>232.50</td>\n",
              "      <td>235.00</td>\n",
              "      <td>234.25</td>\n",
              "      <td>2240909</td>\n",
              "      <td>5248.60</td>\n",
              "      <td>NaN</td>\n",
              "    </tr>\n",
              "    <tr>\n",
              "      <th>3</th>\n",
              "      <td>9/25/2018</td>\n",
              "      <td>233.30</td>\n",
              "      <td>236.75</td>\n",
              "      <td>232.00</td>\n",
              "      <td>236.25</td>\n",
              "      <td>236.10</td>\n",
              "      <td>2349368</td>\n",
              "      <td>5503.90</td>\n",
              "      <td>NaN</td>\n",
              "    </tr>\n",
              "    <tr>\n",
              "      <th>4</th>\n",
              "      <td>9/24/2018</td>\n",
              "      <td>233.55</td>\n",
              "      <td>239.20</td>\n",
              "      <td>230.75</td>\n",
              "      <td>234.00</td>\n",
              "      <td>233.30</td>\n",
              "      <td>3423509</td>\n",
              "      <td>7999.55</td>\n",
              "      <td>NaN</td>\n",
              "    </tr>\n",
              "    <tr>\n",
              "      <th>...</th>\n",
              "      <td>...</td>\n",
              "      <td>...</td>\n",
              "      <td>...</td>\n",
              "      <td>...</td>\n",
              "      <td>...</td>\n",
              "      <td>...</td>\n",
              "      <td>...</td>\n",
              "      <td>...</td>\n",
              "      <td>...</td>\n",
              "    </tr>\n",
              "    <tr>\n",
              "      <th>2030</th>\n",
              "      <td>7/27/2010</td>\n",
              "      <td>117.60</td>\n",
              "      <td>119.50</td>\n",
              "      <td>112.00</td>\n",
              "      <td>118.80</td>\n",
              "      <td>118.65</td>\n",
              "      <td>586100</td>\n",
              "      <td>694.98</td>\n",
              "      <td>NaN</td>\n",
              "    </tr>\n",
              "    <tr>\n",
              "      <th>2031</th>\n",
              "      <td>7/26/2010</td>\n",
              "      <td>120.10</td>\n",
              "      <td>121.00</td>\n",
              "      <td>117.10</td>\n",
              "      <td>117.10</td>\n",
              "      <td>117.60</td>\n",
              "      <td>658440</td>\n",
              "      <td>780.01</td>\n",
              "      <td>NaN</td>\n",
              "    </tr>\n",
              "    <tr>\n",
              "      <th>2032</th>\n",
              "      <td>7/23/2010</td>\n",
              "      <td>121.80</td>\n",
              "      <td>121.95</td>\n",
              "      <td>120.25</td>\n",
              "      <td>120.35</td>\n",
              "      <td>120.65</td>\n",
              "      <td>281312</td>\n",
              "      <td>340.31</td>\n",
              "      <td>NaN</td>\n",
              "    </tr>\n",
              "    <tr>\n",
              "      <th>2033</th>\n",
              "      <td>7/22/2010</td>\n",
              "      <td>120.30</td>\n",
              "      <td>122.00</td>\n",
              "      <td>120.25</td>\n",
              "      <td>120.75</td>\n",
              "      <td>120.90</td>\n",
              "      <td>293312</td>\n",
              "      <td>355.17</td>\n",
              "      <td>NaN</td>\n",
              "    </tr>\n",
              "    <tr>\n",
              "      <th>2034</th>\n",
              "      <td>7/21/2010</td>\n",
              "      <td>122.10</td>\n",
              "      <td>123.00</td>\n",
              "      <td>121.05</td>\n",
              "      <td>121.10</td>\n",
              "      <td>121.55</td>\n",
              "      <td>658666</td>\n",
              "      <td>803.56</td>\n",
              "      <td>NaN</td>\n",
              "    </tr>\n",
              "  </tbody>\n",
              "</table>\n",
              "<p>2035 rows × 9 columns</p>\n",
              "</div>\n",
              "      <button class=\"colab-df-convert\" onclick=\"convertToInteractive('df-dbc7339a-e58e-4e00-a640-bde8123b85c3')\"\n",
              "              title=\"Convert this dataframe to an interactive table.\"\n",
              "              style=\"display:none;\">\n",
              "\n",
              "  <svg xmlns=\"http://www.w3.org/2000/svg\" height=\"24px\"viewBox=\"0 0 24 24\"\n",
              "       width=\"24px\">\n",
              "    <path d=\"M0 0h24v24H0V0z\" fill=\"none\"/>\n",
              "    <path d=\"M18.56 5.44l.94 2.06.94-2.06 2.06-.94-2.06-.94-.94-2.06-.94 2.06-2.06.94zm-11 1L8.5 8.5l.94-2.06 2.06-.94-2.06-.94L8.5 2.5l-.94 2.06-2.06.94zm10 10l.94 2.06.94-2.06 2.06-.94-2.06-.94-.94-2.06-.94 2.06-2.06.94z\"/><path d=\"M17.41 7.96l-1.37-1.37c-.4-.4-.92-.59-1.43-.59-.52 0-1.04.2-1.43.59L10.3 9.45l-7.72 7.72c-.78.78-.78 2.05 0 2.83L4 21.41c.39.39.9.59 1.41.59.51 0 1.02-.2 1.41-.59l7.78-7.78 2.81-2.81c.8-.78.8-2.07 0-2.86zM5.41 20L4 18.59l7.72-7.72 1.47 1.35L5.41 20z\"/>\n",
              "  </svg>\n",
              "      </button>\n",
              "\n",
              "\n",
              "\n",
              "    <div id=\"df-ecd0e411-baf6-4198-8551-265a76bd32c0\">\n",
              "      <button class=\"colab-df-quickchart\" onclick=\"quickchart('df-ecd0e411-baf6-4198-8551-265a76bd32c0')\"\n",
              "              title=\"Suggest charts.\"\n",
              "              style=\"display:none;\">\n",
              "\n",
              "<svg xmlns=\"http://www.w3.org/2000/svg\" height=\"24px\"viewBox=\"0 0 24 24\"\n",
              "     width=\"24px\">\n",
              "    <g>\n",
              "        <path d=\"M19 3H5c-1.1 0-2 .9-2 2v14c0 1.1.9 2 2 2h14c1.1 0 2-.9 2-2V5c0-1.1-.9-2-2-2zM9 17H7v-7h2v7zm4 0h-2V7h2v10zm4 0h-2v-4h2v4z\"/>\n",
              "    </g>\n",
              "</svg>\n",
              "      </button>\n",
              "    </div>\n",
              "\n",
              "<style>\n",
              "  .colab-df-quickchart {\n",
              "    background-color: #E8F0FE;\n",
              "    border: none;\n",
              "    border-radius: 50%;\n",
              "    cursor: pointer;\n",
              "    display: none;\n",
              "    fill: #1967D2;\n",
              "    height: 32px;\n",
              "    padding: 0 0 0 0;\n",
              "    width: 32px;\n",
              "  }\n",
              "\n",
              "  .colab-df-quickchart:hover {\n",
              "    background-color: #E2EBFA;\n",
              "    box-shadow: 0px 1px 2px rgba(60, 64, 67, 0.3), 0px 1px 3px 1px rgba(60, 64, 67, 0.15);\n",
              "    fill: #174EA6;\n",
              "  }\n",
              "\n",
              "  [theme=dark] .colab-df-quickchart {\n",
              "    background-color: #3B4455;\n",
              "    fill: #D2E3FC;\n",
              "  }\n",
              "\n",
              "  [theme=dark] .colab-df-quickchart:hover {\n",
              "    background-color: #434B5C;\n",
              "    box-shadow: 0px 1px 3px 1px rgba(0, 0, 0, 0.15);\n",
              "    filter: drop-shadow(0px 1px 2px rgba(0, 0, 0, 0.3));\n",
              "    fill: #FFFFFF;\n",
              "  }\n",
              "</style>\n",
              "\n",
              "    <script>\n",
              "      async function quickchart(key) {\n",
              "        const containerElement = document.querySelector('#' + key);\n",
              "        const charts = await google.colab.kernel.invokeFunction(\n",
              "            'suggestCharts', [key], {});\n",
              "      }\n",
              "    </script>\n",
              "\n",
              "      <script>\n",
              "\n",
              "function displayQuickchartButton(domScope) {\n",
              "  let quickchartButtonEl =\n",
              "    domScope.querySelector('#df-ecd0e411-baf6-4198-8551-265a76bd32c0 button.colab-df-quickchart');\n",
              "  quickchartButtonEl.style.display =\n",
              "    google.colab.kernel.accessAllowed ? 'block' : 'none';\n",
              "}\n",
              "\n",
              "        displayQuickchartButton(document);\n",
              "      </script>\n",
              "      <style>\n",
              "    .colab-df-container {\n",
              "      display:flex;\n",
              "      flex-wrap:wrap;\n",
              "      gap: 12px;\n",
              "    }\n",
              "\n",
              "    .colab-df-convert {\n",
              "      background-color: #E8F0FE;\n",
              "      border: none;\n",
              "      border-radius: 50%;\n",
              "      cursor: pointer;\n",
              "      display: none;\n",
              "      fill: #1967D2;\n",
              "      height: 32px;\n",
              "      padding: 0 0 0 0;\n",
              "      width: 32px;\n",
              "    }\n",
              "\n",
              "    .colab-df-convert:hover {\n",
              "      background-color: #E2EBFA;\n",
              "      box-shadow: 0px 1px 2px rgba(60, 64, 67, 0.3), 0px 1px 3px 1px rgba(60, 64, 67, 0.15);\n",
              "      fill: #174EA6;\n",
              "    }\n",
              "\n",
              "    [theme=dark] .colab-df-convert {\n",
              "      background-color: #3B4455;\n",
              "      fill: #D2E3FC;\n",
              "    }\n",
              "\n",
              "    [theme=dark] .colab-df-convert:hover {\n",
              "      background-color: #434B5C;\n",
              "      box-shadow: 0px 1px 3px 1px rgba(0, 0, 0, 0.15);\n",
              "      filter: drop-shadow(0px 1px 2px rgba(0, 0, 0, 0.3));\n",
              "      fill: #FFFFFF;\n",
              "    }\n",
              "  </style>\n",
              "\n",
              "      <script>\n",
              "        const buttonEl =\n",
              "          document.querySelector('#df-dbc7339a-e58e-4e00-a640-bde8123b85c3 button.colab-df-convert');\n",
              "        buttonEl.style.display =\n",
              "          google.colab.kernel.accessAllowed ? 'block' : 'none';\n",
              "\n",
              "        async function convertToInteractive(key) {\n",
              "          const element = document.querySelector('#df-dbc7339a-e58e-4e00-a640-bde8123b85c3');\n",
              "          const dataTable =\n",
              "            await google.colab.kernel.invokeFunction('convertToInteractive',\n",
              "                                                     [key], {});\n",
              "          if (!dataTable) return;\n",
              "\n",
              "          const docLinkHtml = 'Like what you see? Visit the ' +\n",
              "            '<a target=\"_blank\" href=https://colab.research.google.com/notebooks/data_table.ipynb>data table notebook</a>'\n",
              "            + ' to learn more about interactive tables.';\n",
              "          element.innerHTML = '';\n",
              "          dataTable['output_type'] = 'display_data';\n",
              "          await google.colab.output.renderOutput(dataTable, element);\n",
              "          const docLink = document.createElement('div');\n",
              "          docLink.innerHTML = docLinkHtml;\n",
              "          element.appendChild(docLink);\n",
              "        }\n",
              "      </script>\n",
              "    </div>\n",
              "  </div>\n"
            ]
          },
          "metadata": {},
          "execution_count": 3
        },
        {
          "output_type": "stream",
          "name": "stdout",
          "text": [
            "Error: Runtime no longer has a reference to this dataframe, please re-run this cell and try again.\n"
          ]
        }
      ]
    },
    {
      "cell_type": "code",
      "source": [
        "df.head()"
      ],
      "metadata": {
        "colab": {
          "base_uri": "https://localhost:8080/",
          "height": 245
        },
        "id": "41Xvmt8ZT0Vf",
        "outputId": "a2095482-4550-40da-b31b-74700edd11bb"
      },
      "execution_count": null,
      "outputs": [
        {
          "output_type": "execute_result",
          "data": {
            "text/plain": [
              "        Date    Open    High  ...  Total Trade Quantity  Turnover (Lacs)  Unnamed: 8\n",
              "0  9/28/2018  234.05  235.95  ...               3069914          7162.35         NaN\n",
              "1  9/27/2018  234.55  236.80  ...               5082859         11859.95         NaN\n",
              "2  9/26/2018  240.00  240.00  ...               2240909          5248.60         NaN\n",
              "3  9/25/2018  233.30  236.75  ...               2349368          5503.90         NaN\n",
              "4  9/24/2018  233.55  239.20  ...               3423509          7999.55         NaN\n",
              "\n",
              "[5 rows x 9 columns]"
            ],
            "text/html": [
              "\n",
              "\n",
              "  <div id=\"df-e6d1a127-800a-49e6-b885-93edceda06cb\">\n",
              "    <div class=\"colab-df-container\">\n",
              "      <div>\n",
              "<style scoped>\n",
              "    .dataframe tbody tr th:only-of-type {\n",
              "        vertical-align: middle;\n",
              "    }\n",
              "\n",
              "    .dataframe tbody tr th {\n",
              "        vertical-align: top;\n",
              "    }\n",
              "\n",
              "    .dataframe thead th {\n",
              "        text-align: right;\n",
              "    }\n",
              "</style>\n",
              "<table border=\"1\" class=\"dataframe\">\n",
              "  <thead>\n",
              "    <tr style=\"text-align: right;\">\n",
              "      <th></th>\n",
              "      <th>Date</th>\n",
              "      <th>Open</th>\n",
              "      <th>High</th>\n",
              "      <th>Low</th>\n",
              "      <th>Last</th>\n",
              "      <th>Close</th>\n",
              "      <th>Total Trade Quantity</th>\n",
              "      <th>Turnover (Lacs)</th>\n",
              "      <th>Unnamed: 8</th>\n",
              "    </tr>\n",
              "  </thead>\n",
              "  <tbody>\n",
              "    <tr>\n",
              "      <th>0</th>\n",
              "      <td>9/28/2018</td>\n",
              "      <td>234.05</td>\n",
              "      <td>235.95</td>\n",
              "      <td>230.20</td>\n",
              "      <td>233.50</td>\n",
              "      <td>233.75</td>\n",
              "      <td>3069914</td>\n",
              "      <td>7162.35</td>\n",
              "      <td>NaN</td>\n",
              "    </tr>\n",
              "    <tr>\n",
              "      <th>1</th>\n",
              "      <td>9/27/2018</td>\n",
              "      <td>234.55</td>\n",
              "      <td>236.80</td>\n",
              "      <td>231.10</td>\n",
              "      <td>233.80</td>\n",
              "      <td>233.25</td>\n",
              "      <td>5082859</td>\n",
              "      <td>11859.95</td>\n",
              "      <td>NaN</td>\n",
              "    </tr>\n",
              "    <tr>\n",
              "      <th>2</th>\n",
              "      <td>9/26/2018</td>\n",
              "      <td>240.00</td>\n",
              "      <td>240.00</td>\n",
              "      <td>232.50</td>\n",
              "      <td>235.00</td>\n",
              "      <td>234.25</td>\n",
              "      <td>2240909</td>\n",
              "      <td>5248.60</td>\n",
              "      <td>NaN</td>\n",
              "    </tr>\n",
              "    <tr>\n",
              "      <th>3</th>\n",
              "      <td>9/25/2018</td>\n",
              "      <td>233.30</td>\n",
              "      <td>236.75</td>\n",
              "      <td>232.00</td>\n",
              "      <td>236.25</td>\n",
              "      <td>236.10</td>\n",
              "      <td>2349368</td>\n",
              "      <td>5503.90</td>\n",
              "      <td>NaN</td>\n",
              "    </tr>\n",
              "    <tr>\n",
              "      <th>4</th>\n",
              "      <td>9/24/2018</td>\n",
              "      <td>233.55</td>\n",
              "      <td>239.20</td>\n",
              "      <td>230.75</td>\n",
              "      <td>234.00</td>\n",
              "      <td>233.30</td>\n",
              "      <td>3423509</td>\n",
              "      <td>7999.55</td>\n",
              "      <td>NaN</td>\n",
              "    </tr>\n",
              "  </tbody>\n",
              "</table>\n",
              "</div>\n",
              "      <button class=\"colab-df-convert\" onclick=\"convertToInteractive('df-e6d1a127-800a-49e6-b885-93edceda06cb')\"\n",
              "              title=\"Convert this dataframe to an interactive table.\"\n",
              "              style=\"display:none;\">\n",
              "\n",
              "  <svg xmlns=\"http://www.w3.org/2000/svg\" height=\"24px\"viewBox=\"0 0 24 24\"\n",
              "       width=\"24px\">\n",
              "    <path d=\"M0 0h24v24H0V0z\" fill=\"none\"/>\n",
              "    <path d=\"M18.56 5.44l.94 2.06.94-2.06 2.06-.94-2.06-.94-.94-2.06-.94 2.06-2.06.94zm-11 1L8.5 8.5l.94-2.06 2.06-.94-2.06-.94L8.5 2.5l-.94 2.06-2.06.94zm10 10l.94 2.06.94-2.06 2.06-.94-2.06-.94-.94-2.06-.94 2.06-2.06.94z\"/><path d=\"M17.41 7.96l-1.37-1.37c-.4-.4-.92-.59-1.43-.59-.52 0-1.04.2-1.43.59L10.3 9.45l-7.72 7.72c-.78.78-.78 2.05 0 2.83L4 21.41c.39.39.9.59 1.41.59.51 0 1.02-.2 1.41-.59l7.78-7.78 2.81-2.81c.8-.78.8-2.07 0-2.86zM5.41 20L4 18.59l7.72-7.72 1.47 1.35L5.41 20z\"/>\n",
              "  </svg>\n",
              "      </button>\n",
              "\n",
              "\n",
              "\n",
              "    <div id=\"df-6a4e9b7a-353a-4aa9-80d0-d61757cea1c1\">\n",
              "      <button class=\"colab-df-quickchart\" onclick=\"quickchart('df-6a4e9b7a-353a-4aa9-80d0-d61757cea1c1')\"\n",
              "              title=\"Suggest charts.\"\n",
              "              style=\"display:none;\">\n",
              "\n",
              "<svg xmlns=\"http://www.w3.org/2000/svg\" height=\"24px\"viewBox=\"0 0 24 24\"\n",
              "     width=\"24px\">\n",
              "    <g>\n",
              "        <path d=\"M19 3H5c-1.1 0-2 .9-2 2v14c0 1.1.9 2 2 2h14c1.1 0 2-.9 2-2V5c0-1.1-.9-2-2-2zM9 17H7v-7h2v7zm4 0h-2V7h2v10zm4 0h-2v-4h2v4z\"/>\n",
              "    </g>\n",
              "</svg>\n",
              "      </button>\n",
              "    </div>\n",
              "\n",
              "<style>\n",
              "  .colab-df-quickchart {\n",
              "    background-color: #E8F0FE;\n",
              "    border: none;\n",
              "    border-radius: 50%;\n",
              "    cursor: pointer;\n",
              "    display: none;\n",
              "    fill: #1967D2;\n",
              "    height: 32px;\n",
              "    padding: 0 0 0 0;\n",
              "    width: 32px;\n",
              "  }\n",
              "\n",
              "  .colab-df-quickchart:hover {\n",
              "    background-color: #E2EBFA;\n",
              "    box-shadow: 0px 1px 2px rgba(60, 64, 67, 0.3), 0px 1px 3px 1px rgba(60, 64, 67, 0.15);\n",
              "    fill: #174EA6;\n",
              "  }\n",
              "\n",
              "  [theme=dark] .colab-df-quickchart {\n",
              "    background-color: #3B4455;\n",
              "    fill: #D2E3FC;\n",
              "  }\n",
              "\n",
              "  [theme=dark] .colab-df-quickchart:hover {\n",
              "    background-color: #434B5C;\n",
              "    box-shadow: 0px 1px 3px 1px rgba(0, 0, 0, 0.15);\n",
              "    filter: drop-shadow(0px 1px 2px rgba(0, 0, 0, 0.3));\n",
              "    fill: #FFFFFF;\n",
              "  }\n",
              "</style>\n",
              "\n",
              "    <script>\n",
              "      async function quickchart(key) {\n",
              "        const containerElement = document.querySelector('#' + key);\n",
              "        const charts = await google.colab.kernel.invokeFunction(\n",
              "            'suggestCharts', [key], {});\n",
              "      }\n",
              "    </script>\n",
              "\n",
              "      <script>\n",
              "\n",
              "function displayQuickchartButton(domScope) {\n",
              "  let quickchartButtonEl =\n",
              "    domScope.querySelector('#df-6a4e9b7a-353a-4aa9-80d0-d61757cea1c1 button.colab-df-quickchart');\n",
              "  quickchartButtonEl.style.display =\n",
              "    google.colab.kernel.accessAllowed ? 'block' : 'none';\n",
              "}\n",
              "\n",
              "        displayQuickchartButton(document);\n",
              "      </script>\n",
              "      <style>\n",
              "    .colab-df-container {\n",
              "      display:flex;\n",
              "      flex-wrap:wrap;\n",
              "      gap: 12px;\n",
              "    }\n",
              "\n",
              "    .colab-df-convert {\n",
              "      background-color: #E8F0FE;\n",
              "      border: none;\n",
              "      border-radius: 50%;\n",
              "      cursor: pointer;\n",
              "      display: none;\n",
              "      fill: #1967D2;\n",
              "      height: 32px;\n",
              "      padding: 0 0 0 0;\n",
              "      width: 32px;\n",
              "    }\n",
              "\n",
              "    .colab-df-convert:hover {\n",
              "      background-color: #E2EBFA;\n",
              "      box-shadow: 0px 1px 2px rgba(60, 64, 67, 0.3), 0px 1px 3px 1px rgba(60, 64, 67, 0.15);\n",
              "      fill: #174EA6;\n",
              "    }\n",
              "\n",
              "    [theme=dark] .colab-df-convert {\n",
              "      background-color: #3B4455;\n",
              "      fill: #D2E3FC;\n",
              "    }\n",
              "\n",
              "    [theme=dark] .colab-df-convert:hover {\n",
              "      background-color: #434B5C;\n",
              "      box-shadow: 0px 1px 3px 1px rgba(0, 0, 0, 0.15);\n",
              "      filter: drop-shadow(0px 1px 2px rgba(0, 0, 0, 0.3));\n",
              "      fill: #FFFFFF;\n",
              "    }\n",
              "  </style>\n",
              "\n",
              "      <script>\n",
              "        const buttonEl =\n",
              "          document.querySelector('#df-e6d1a127-800a-49e6-b885-93edceda06cb button.colab-df-convert');\n",
              "        buttonEl.style.display =\n",
              "          google.colab.kernel.accessAllowed ? 'block' : 'none';\n",
              "\n",
              "        async function convertToInteractive(key) {\n",
              "          const element = document.querySelector('#df-e6d1a127-800a-49e6-b885-93edceda06cb');\n",
              "          const dataTable =\n",
              "            await google.colab.kernel.invokeFunction('convertToInteractive',\n",
              "                                                     [key], {});\n",
              "          if (!dataTable) return;\n",
              "\n",
              "          const docLinkHtml = 'Like what you see? Visit the ' +\n",
              "            '<a target=\"_blank\" href=https://colab.research.google.com/notebooks/data_table.ipynb>data table notebook</a>'\n",
              "            + ' to learn more about interactive tables.';\n",
              "          element.innerHTML = '';\n",
              "          dataTable['output_type'] = 'display_data';\n",
              "          await google.colab.output.renderOutput(dataTable, element);\n",
              "          const docLink = document.createElement('div');\n",
              "          docLink.innerHTML = docLinkHtml;\n",
              "          element.appendChild(docLink);\n",
              "        }\n",
              "      </script>\n",
              "    </div>\n",
              "  </div>\n"
            ]
          },
          "metadata": {},
          "execution_count": 4
        }
      ]
    },
    {
      "cell_type": "code",
      "source": [
        "df = df.reset_index()['Close']\n",
        "df"
      ],
      "metadata": {
        "colab": {
          "base_uri": "https://localhost:8080/"
        },
        "id": "dL_ND_IFT_1I",
        "outputId": "d4012f05-10a5-4f1f-a8ad-719d1f365bfb"
      },
      "execution_count": null,
      "outputs": [
        {
          "output_type": "execute_result",
          "data": {
            "text/plain": [
              "0       233.75\n",
              "1       233.25\n",
              "2       234.25\n",
              "3       236.10\n",
              "4       233.30\n",
              "         ...  \n",
              "2030    118.65\n",
              "2031    117.60\n",
              "2032    120.65\n",
              "2033    120.90\n",
              "2034    121.55\n",
              "Name: Close, Length: 2035, dtype: float64"
            ]
          },
          "metadata": {},
          "execution_count": 7
        }
      ]
    },
    {
      "cell_type": "code",
      "source": [
        "df.isnull().sum()"
      ],
      "metadata": {
        "colab": {
          "base_uri": "https://localhost:8080/"
        },
        "id": "bzYym9JiUvi8",
        "outputId": "1c3fc348-d108-4ff1-87ab-4345baf424c7"
      },
      "execution_count": null,
      "outputs": [
        {
          "output_type": "execute_result",
          "data": {
            "text/plain": [
              "0"
            ]
          },
          "metadata": {},
          "execution_count": 8
        }
      ]
    },
    {
      "cell_type": "code",
      "source": [
        "plt.figure(figsize=(20,10))\n",
        "plt.plot(df,color='blue',label='Stock prize plot')\n",
        "plt.legend()"
      ],
      "metadata": {
        "colab": {
          "base_uri": "https://localhost:8080/",
          "height": 598
        },
        "id": "qGoSevopVBEz",
        "outputId": "5aaa0048-8306-4239-d78d-90a76d66efbe"
      },
      "execution_count": null,
      "outputs": [
        {
          "output_type": "execute_result",
          "data": {
            "text/plain": [
              "<matplotlib.legend.Legend at 0x7eddb8d74ca0>"
            ]
          },
          "metadata": {},
          "execution_count": 9
        },
        {
          "output_type": "display_data",
          "data": {
            "text/plain": [
              "<Figure size 2000x1000 with 1 Axes>"
            ],
            "image/png": "[encoded data removed]"
          },
          "metadata": {}
        }
      ]
    },
    {
      "cell_type": "markdown",
      "source": [
        "PreProcessing the Dataset"
      ],
      "metadata": {
        "id": "8X07VB5YWY8c"
      }
    },
    {
      "cell_type": "code",
      "source": [
        "from sklearn.preprocessing import MinMaxScaler\n",
        "scaler=MinMaxScaler(feature_range=(0,1))\n",
        "df=scaler.fit_transform(np.array(df).reshape(-1,1))\n",
        "print(df)"
      ],
      "metadata": {
        "colab": {
          "base_uri": "https://localhost:8080/"
        },
        "id": "aUF7kT3HVGUk",
        "outputId": "9e0cce98-a955-47d0-f519-4a82571f5c48"
      },
      "execution_count": null,
      "outputs": [
        {
          "output_type": "stream",
          "name": "stdout",
          "text": [
            "[[0.62418301]\n",
            " [0.62214052]\n",
            " [0.62622549]\n",
            " ...\n",
            " [0.1621732 ]\n",
            " [0.16319444]\n",
            " [0.16584967]]\n"
          ]
        }
      ]
    },
    {
      "cell_type": "markdown",
      "source": [
        "Train and Test the Data set According to the time skip\n"
      ],
      "metadata": {
        "id": "Ay9b4o6rWj4V"
      }
    },
    {
      "cell_type": "code",
      "source": [
        "training_size = int(len(df)*0.75)\n",
        "test_size=int(len(df)) - training_size\n",
        "train_data, test_data = df[0:training_size, :], df[training_size:len(df), :1]"
      ],
      "metadata": {
        "id": "xcMBhxm7WtSd"
      },
      "execution_count": null,
      "outputs": []
    },
    {
      "cell_type": "code",
      "source": [
        "def create_features(dataset, time_step=1):\n",
        "    dataX, dataY = [], []\n",
        "    for i in range(len(dataset)-time_step-1):\n",
        "        a=dataset[i:(i+time_step), 0]\n",
        "        dataX.append(a)\n",
        "        dataY.append(dataset[i + time_step, 0])\n",
        "    return np.array(dataX), np.array(dataY)"
      ],
      "metadata": {
        "id": "IUCljyqAXmv0"
      },
      "execution_count": null,
      "outputs": []
    },
    {
      "cell_type": "code",
      "source": [
        "ts=100\n",
        "X_train,y_train=create_features(train_data,ts)\n",
        "X_test,y_test=create_features(train_data,ts)"
      ],
      "metadata": {
        "id": "kLebIMeEXp2I"
      },
      "execution_count": null,
      "outputs": []
    },
    {
      "cell_type": "code",
      "source": [
        "X_train=X_train.reshape(X_train.shape[0], X_train.shape[1], 1)\n",
        "X_test=X_test.reshape(X_test.shape[0], X_test.shape[1], 1)"
      ],
      "metadata": {
        "id": "uyD2eb0QX-VM"
      },
      "execution_count": null,
      "outputs": []
    },
    {
      "cell_type": "markdown",
      "source": [
        "LSTM MODEL"
      ],
      "metadata": {
        "id": "KWjUSCTVYI0v"
      }
    },
    {
      "cell_type": "code",
      "source": [
        "model = Sequential()\n",
        "model.add(LSTM(50,return_sequences=True, input_shape=(100,1)))\n",
        "model.add(LSTM(50,return_sequences=True))\n",
        "model.add(LSTM(50))\n",
        "model.add(Dense(1))\n",
        "model.compile(loss='mean_squared_error', optimizer='adam')\n",
        "model.summary()"
      ],
      "metadata": {
        "colab": {
          "base_uri": "https://localhost:8080/"
        },
        "id": "oodp0WRRYMVt",
        "outputId": "2f2378e2-ec9a-4182-fcde-ef431a384a88"
      },
      "execution_count": null,
      "outputs": [
        {
          "output_type": "stream",
          "name": "stdout",
          "text": [
            "Model: \"sequential\"\n",
            "_________________________________________________________________\n",
            "Layer (type)                 Output Shape              Param #   \n",
            "=================================================================\n",
            "lstm (LSTM)                  (None, 100, 50)           10400     \n",
            "_________________________________________________________________\n",
            "lstm_1 (LSTM)                (None, 100, 50)           20200     \n",
            "_________________________________________________________________\n",
            "lstm_2 (LSTM)                (None, 50)                20200     \n",
            "_________________________________________________________________\n",
            "dense (Dense)                (None, 1)                 51        \n",
            "=================================================================\n",
            "Total params: 50,851\n",
            "Trainable params: 50,851\n",
            "Non-trainable params: 0\n",
            "_________________________________________________________________\n"
          ]
        }
      ]
    },
    {
      "cell_type": "code",
      "source": [
        "model.fit(X_train, y_train, validation_data=(X_test, y_test), epochs=100, batch_size=64, verbose=1)"
      ],
      "metadata": {
        "colab": {
          "base_uri": "https://localhost:8080/"
        },
        "id": "JzyGRNIaYQy-",
        "outputId": "8f938001-87ba-4d44-f9fc-e65af1269d9f"
      },
      "execution_count": null,
      "outputs": [
        {
          "output_type": "stream",
          "name": "stdout",
          "text": [
            "Epoch 1/100\n",
            "23/23 [==============================] - 35s 586ms/step - loss: 0.0247 - val_loss: 0.0033\n",
            "Epoch 2/100\n",
            "23/23 [==============================] - 12s 535ms/step - loss: 0.0025 - val_loss: 0.0015\n",
            "Epoch 3/100\n",
            "23/23 [==============================] - 12s 536ms/step - loss: 0.0015 - val_loss: 0.0013\n",
            "Epoch 4/100\n",
            "23/23 [==============================] - 12s 534ms/step - loss: 0.0013 - val_loss: 0.0013\n",
            "Epoch 5/100\n",
            "23/23 [==============================] - 12s 527ms/step - loss: 0.0014 - val_loss: 0.0013\n",
            "Epoch 6/100\n",
            "23/23 [==============================] - 13s 582ms/step - loss: 0.0012 - val_loss: 0.0012\n",
            "Epoch 7/100\n",
            "23/23 [==============================] - 11s 502ms/step - loss: 0.0012 - val_loss: 0.0011\n",
            "Epoch 8/100\n",
            "23/23 [==============================] - 14s 608ms/step - loss: 0.0011 - val_loss: 0.0011\n",
            "Epoch 9/100\n",
            "23/23 [==============================] - 12s 498ms/step - loss: 0.0010 - val_loss: 9.4918e-04\n",
            "Epoch 10/100\n",
            "23/23 [==============================] - 12s 495ms/step - loss: 9.8368e-04 - val_loss: 9.1607e-04\n",
            "Epoch 11/100\n",
            "23/23 [==============================] - 12s 529ms/step - loss: 9.5907e-04 - val_loss: 8.9374e-04\n",
            "Epoch 12/100\n",
            "23/23 [==============================] - 14s 627ms/step - loss: 9.0844e-04 - val_loss: 8.5963e-04\n",
            "Epoch 13/100\n",
            "23/23 [==============================] - 12s 526ms/step - loss: 8.6400e-04 - val_loss: 8.4800e-04\n",
            "Epoch 14/100\n",
            "23/23 [==============================] - 12s 534ms/step - loss: 8.2777e-04 - val_loss: 8.1274e-04\n",
            "Epoch 15/100\n",
            "23/23 [==============================] - 12s 534ms/step - loss: 8.0918e-04 - val_loss: 7.5308e-04\n",
            "Epoch 16/100\n",
            "23/23 [==============================] - 14s 604ms/step - loss: 8.3233e-04 - val_loss: 7.3093e-04\n",
            "Epoch 17/100\n",
            "23/23 [==============================] - 12s 534ms/step - loss: 7.8704e-04 - val_loss: 7.5297e-04\n",
            "Epoch 18/100\n",
            "23/23 [==============================] - 12s 545ms/step - loss: 7.7653e-04 - val_loss: 8.0352e-04\n",
            "Epoch 19/100\n",
            "23/23 [==============================] - 12s 530ms/step - loss: 7.2524e-04 - val_loss: 7.5051e-04\n",
            "Epoch 20/100\n",
            "23/23 [==============================] - 12s 536ms/step - loss: 6.9423e-04 - val_loss: 6.5774e-04\n",
            "Epoch 21/100\n",
            "23/23 [==============================] - 12s 534ms/step - loss: 7.0479e-04 - val_loss: 6.5372e-04\n",
            "Epoch 22/100\n",
            "23/23 [==============================] - 12s 529ms/step - loss: 7.4059e-04 - val_loss: 6.1918e-04\n",
            "Epoch 23/100\n",
            "23/23 [==============================] - 12s 538ms/step - loss: 6.3411e-04 - val_loss: 6.0642e-04\n",
            "Epoch 24/100\n",
            "23/23 [==============================] - 12s 529ms/step - loss: 6.3331e-04 - val_loss: 5.9967e-04\n",
            "Epoch 25/100\n",
            "23/23 [==============================] - 13s 577ms/step - loss: 6.4678e-04 - val_loss: 6.2463e-04\n",
            "Epoch 26/100\n",
            "23/23 [==============================] - 16s 723ms/step - loss: 5.9779e-04 - val_loss: 6.4608e-04\n",
            "Epoch 27/100\n",
            "23/23 [==============================] - 14s 609ms/step - loss: 5.9234e-04 - val_loss: 5.5566e-04\n",
            "Epoch 28/100\n",
            "23/23 [==============================] - 15s 645ms/step - loss: 6.9357e-04 - val_loss: 5.9773e-04\n",
            "Epoch 29/100\n",
            "23/23 [==============================] - 16s 707ms/step - loss: 6.0414e-04 - val_loss: 5.6855e-04\n",
            "Epoch 30/100\n",
            "23/23 [==============================] - 16s 701ms/step - loss: 6.2900e-04 - val_loss: 5.2952e-04\n",
            "Epoch 31/100\n",
            "23/23 [==============================] - 14s 586ms/step - loss: 5.4917e-04 - val_loss: 5.1908e-04\n",
            "Epoch 32/100\n",
            "23/23 [==============================] - 15s 636ms/step - loss: 5.2282e-04 - val_loss: 5.9974e-04\n",
            "Epoch 33/100\n",
            "23/23 [==============================] - 15s 664ms/step - loss: 5.4337e-04 - val_loss: 6.2703e-04\n",
            "Epoch 34/100\n",
            "23/23 [==============================] - 13s 552ms/step - loss: 6.0557e-04 - val_loss: 4.9926e-04\n",
            "Epoch 35/100\n",
            "23/23 [==============================] - 13s 565ms/step - loss: 5.6692e-04 - val_loss: 4.8970e-04\n",
            "Epoch 36/100\n",
            "23/23 [==============================] - 12s 533ms/step - loss: 5.8336e-04 - val_loss: 4.7811e-04\n",
            "Epoch 37/100\n",
            "23/23 [==============================] - 11s 493ms/step - loss: 4.7776e-04 - val_loss: 5.0493e-04\n",
            "Epoch 38/100\n",
            "23/23 [==============================] - 12s 513ms/step - loss: 4.8711e-04 - val_loss: 5.6905e-04\n",
            "Epoch 39/100\n",
            "23/23 [==============================] - 12s 513ms/step - loss: 5.0021e-04 - val_loss: 4.5344e-04\n",
            "Epoch 40/100\n",
            "23/23 [==============================] - 12s 538ms/step - loss: 5.0562e-04 - val_loss: 4.3293e-04\n",
            "Epoch 41/100\n",
            "23/23 [==============================] - 12s 545ms/step - loss: 5.5744e-04 - val_loss: 4.6541e-04\n",
            "Epoch 42/100\n",
            "23/23 [==============================] - 12s 538ms/step - loss: 4.8604e-04 - val_loss: 4.2295e-04\n",
            "Epoch 43/100\n",
            "23/23 [==============================] - 13s 553ms/step - loss: 5.0043e-04 - val_loss: 4.1976e-04\n",
            "Epoch 44/100\n",
            "23/23 [==============================] - 12s 546ms/step - loss: 5.3181e-04 - val_loss: 4.6080e-04\n",
            "Epoch 45/100\n",
            "23/23 [==============================] - 12s 547ms/step - loss: 4.0859e-04 - val_loss: 3.9667e-04\n",
            "Epoch 46/100\n",
            "23/23 [==============================] - 13s 550ms/step - loss: 4.1791e-04 - val_loss: 4.0007e-04\n",
            "Epoch 47/100\n",
            "23/23 [==============================] - 12s 534ms/step - loss: 4.0574e-04 - val_loss: 4.7142e-04\n",
            "Epoch 48/100\n",
            "23/23 [==============================] - 12s 533ms/step - loss: 4.0124e-04 - val_loss: 4.3897e-04\n",
            "Epoch 49/100\n",
            "23/23 [==============================] - 12s 548ms/step - loss: 3.9085e-04 - val_loss: 3.6935e-04\n",
            "Epoch 50/100\n",
            "23/23 [==============================] - 12s 533ms/step - loss: 3.9263e-04 - val_loss: 6.3455e-04\n",
            "Epoch 51/100\n",
            "23/23 [==============================] - 12s 533ms/step - loss: 4.2373e-04 - val_loss: 3.4957e-04\n",
            "Epoch 52/100\n",
            "23/23 [==============================] - 12s 519ms/step - loss: 3.5226e-04 - val_loss: 3.5615e-04\n",
            "Epoch 53/100\n",
            "23/23 [==============================] - 12s 500ms/step - loss: 3.3945e-04 - val_loss: 3.2006e-04\n",
            "Epoch 54/100\n",
            "23/23 [==============================] - 12s 501ms/step - loss: 3.2194e-04 - val_loss: 3.7696e-04\n",
            "Epoch 55/100\n",
            "23/23 [==============================] - 12s 530ms/step - loss: 3.4842e-04 - val_loss: 3.6975e-04\n",
            "Epoch 56/100\n",
            "23/23 [==============================] - 12s 534ms/step - loss: 3.3761e-04 - val_loss: 2.9957e-04\n",
            "Epoch 57/100\n",
            "23/23 [==============================] - 12s 536ms/step - loss: 3.9226e-04 - val_loss: 2.9341e-04\n",
            "Epoch 58/100\n",
            "23/23 [==============================] - 12s 537ms/step - loss: 3.3374e-04 - val_loss: 3.0442e-04\n",
            "Epoch 59/100\n",
            "23/23 [==============================] - 12s 532ms/step - loss: 3.0275e-04 - val_loss: 2.8201e-04\n",
            "Epoch 60/100\n",
            "23/23 [==============================] - 12s 529ms/step - loss: 2.9065e-04 - val_loss: 2.8170e-04\n",
            "Epoch 61/100\n",
            "23/23 [==============================] - 12s 541ms/step - loss: 2.9165e-04 - val_loss: 2.9565e-04\n",
            "Epoch 62/100\n",
            "23/23 [==============================] - 12s 529ms/step - loss: 2.9956e-04 - val_loss: 2.7088e-04\n",
            "Epoch 63/100\n",
            "23/23 [==============================] - 12s 532ms/step - loss: 2.9367e-04 - val_loss: 3.5271e-04\n",
            "Epoch 64/100\n",
            "23/23 [==============================] - 12s 533ms/step - loss: 3.3248e-04 - val_loss: 2.6669e-04\n",
            "Epoch 65/100\n",
            "23/23 [==============================] - 12s 534ms/step - loss: 3.4454e-04 - val_loss: 2.6698e-04\n",
            "Epoch 66/100\n",
            "23/23 [==============================] - 12s 522ms/step - loss: 3.2309e-04 - val_loss: 3.0281e-04\n",
            "Epoch 67/100\n",
            "23/23 [==============================] - 12s 500ms/step - loss: 2.8253e-04 - val_loss: 2.6928e-04\n",
            "Epoch 68/100\n",
            "23/23 [==============================] - 12s 496ms/step - loss: 2.7104e-04 - val_loss: 2.7669e-04\n",
            "Epoch 69/100\n",
            "23/23 [==============================] - 12s 519ms/step - loss: 2.8113e-04 - val_loss: 2.8257e-04\n",
            "Epoch 70/100\n",
            "23/23 [==============================] - 12s 529ms/step - loss: 2.4713e-04 - val_loss: 2.5137e-04\n",
            "Epoch 71/100\n",
            "23/23 [==============================] - 12s 535ms/step - loss: 2.4846e-04 - val_loss: 3.3750e-04\n",
            "Epoch 72/100\n",
            "23/23 [==============================] - 12s 538ms/step - loss: 2.6686e-04 - val_loss: 2.4365e-04\n",
            "Epoch 73/100\n",
            "23/23 [==============================] - 12s 530ms/step - loss: 2.4997e-04 - val_loss: 2.4763e-04\n",
            "Epoch 74/100\n",
            "23/23 [==============================] - 12s 533ms/step - loss: 2.8986e-04 - val_loss: 2.6488e-04\n",
            "Epoch 75/100\n",
            "23/23 [==============================] - 12s 529ms/step - loss: 2.8082e-04 - val_loss: 2.6324e-04\n",
            "Epoch 76/100\n",
            "23/23 [==============================] - 12s 533ms/step - loss: 2.8366e-04 - val_loss: 2.6986e-04\n",
            "Epoch 77/100\n",
            "23/23 [==============================] - 12s 527ms/step - loss: 2.7295e-04 - val_loss: 2.4779e-04\n",
            "Epoch 78/100\n",
            "23/23 [==============================] - 12s 530ms/step - loss: 2.4635e-04 - val_loss: 2.3528e-04\n",
            "Epoch 79/100\n",
            "23/23 [==============================] - 12s 525ms/step - loss: 2.4662e-04 - val_loss: 2.4174e-04\n",
            "Epoch 80/100\n",
            "23/23 [==============================] - 11s 478ms/step - loss: 2.4052e-04 - val_loss: 3.2271e-04\n",
            "Epoch 81/100\n",
            "23/23 [==============================] - 12s 503ms/step - loss: 2.8809e-04 - val_loss: 2.5294e-04\n",
            "Epoch 82/100\n",
            "23/23 [==============================] - 12s 530ms/step - loss: 2.2526e-04 - val_loss: 2.2424e-04\n",
            "Epoch 83/100\n",
            "23/23 [==============================] - 12s 531ms/step - loss: 2.4003e-04 - val_loss: 2.1093e-04\n",
            "Epoch 84/100\n",
            "23/23 [==============================] - 12s 532ms/step - loss: 2.4338e-04 - val_loss: 2.1032e-04\n",
            "Epoch 85/100\n",
            "23/23 [==============================] - 12s 529ms/step - loss: 2.1269e-04 - val_loss: 2.0709e-04\n",
            "Epoch 86/100\n",
            "23/23 [==============================] - 12s 531ms/step - loss: 2.1568e-04 - val_loss: 2.1326e-04\n",
            "Epoch 87/100\n",
            "23/23 [==============================] - 12s 526ms/step - loss: 2.2185e-04 - val_loss: 2.2682e-04\n",
            "Epoch 88/100\n",
            "23/23 [==============================] - 12s 533ms/step - loss: 2.3423e-04 - val_loss: 2.1231e-04\n",
            "Epoch 89/100\n",
            "23/23 [==============================] - 12s 532ms/step - loss: 2.4404e-04 - val_loss: 2.7201e-04\n",
            "Epoch 90/100\n",
            "23/23 [==============================] - 12s 528ms/step - loss: 2.2144e-04 - val_loss: 2.3226e-04\n",
            "Epoch 91/100\n",
            "23/23 [==============================] - 12s 523ms/step - loss: 2.1565e-04 - val_loss: 2.1070e-04\n",
            "Epoch 92/100\n",
            "23/23 [==============================] - 11s 488ms/step - loss: 2.1115e-04 - val_loss: 1.9751e-04\n",
            "Epoch 93/100\n",
            "23/23 [==============================] - 12s 499ms/step - loss: 2.0801e-04 - val_loss: 1.9291e-04\n",
            "Epoch 94/100\n",
            "23/23 [==============================] - 12s 531ms/step - loss: 2.0771e-04 - val_loss: 2.0167e-04\n",
            "Epoch 95/100\n",
            "23/23 [==============================] - 12s 529ms/step - loss: 3.3865e-04 - val_loss: 2.4829e-04\n",
            "Epoch 96/100\n",
            "23/23 [==============================] - 12s 532ms/step - loss: 2.3786e-04 - val_loss: 1.9590e-04\n",
            "Epoch 97/100\n",
            "23/23 [==============================] - 12s 529ms/step - loss: 2.0898e-04 - val_loss: 3.2061e-04\n",
            "Epoch 98/100\n",
            "23/23 [==============================] - 12s 528ms/step - loss: 2.3372e-04 - val_loss: 3.2022e-04\n",
            "Epoch 99/100\n",
            "23/23 [==============================] - 12s 528ms/step - loss: 2.5269e-04 - val_loss: 1.9853e-04\n",
            "Epoch 100/100\n",
            "23/23 [==============================] - 12s 531ms/step - loss: 2.1463e-04 - val_loss: 2.8339e-04\n"
          ]
        },
        {
          "output_type": "execute_result",
          "data": {
            "text/plain": [
              "<tensorflow.python.keras.callbacks.History at 0x7eddb4f1e4d0>"
            ]
          },
          "metadata": {},
          "execution_count": 19
        }
      ]
    },
    {
      "cell_type": "code",
      "source": [
        "train_predict=model.predict(X_train)\n",
        "test_predict=model.predict(X_test)\n"
      ],
      "metadata": {
        "id": "1RL6GjbHdMHN"
      },
      "execution_count": null,
      "outputs": []
    },
    {
      "cell_type": "code",
      "source": [
        "train_predict = scaler.inverse_transform(train_predict)\n",
        "test_predict = scaler.inverse_transform(test_predict)"
      ],
      "metadata": {
        "id": "UqmWd2eWdbsD"
      },
      "execution_count": null,
      "outputs": []
    },
    {
      "cell_type": "markdown",
      "source": [
        "Calculating the root mean square"
      ],
      "metadata": {
        "id": "IW_cixDrdvgL"
      }
    },
    {
      "cell_type": "code",
      "source": [
        "math.sqrt(mean_squared_error(y_train,train_predict))"
      ],
      "metadata": {
        "colab": {
          "base_uri": "https://localhost:8080/"
        },
        "id": "IsFMaCi5dzvF",
        "outputId": "ecdd9616-6629-4a5b-e0d1-d811bf24a629"
      },
      "execution_count": null,
      "outputs": [
        {
          "output_type": "execute_result",
          "data": {
            "text/plain": [
              "0.0168342608870262"
            ]
          },
          "metadata": {},
          "execution_count": 27
        }
      ]
    },
    {
      "cell_type": "code",
      "source": [
        "math.sqrt(mean_squared_error(y_test,test_predict))"
      ],
      "metadata": {
        "colab": {
          "base_uri": "https://localhost:8080/"
        },
        "id": "EgvuRIJtd2i0",
        "outputId": "4263c267-dec0-47cb-8930-734e03cfe2cf"
      },
      "execution_count": null,
      "outputs": [
        {
          "output_type": "execute_result",
          "data": {
            "text/plain": [
              "0.0168342608870262"
            ]
          },
          "metadata": {},
          "execution_count": 28
        }
      ]
    },
    {
      "cell_type": "markdown",
      "source": [
        "Plotting the Graph"
      ],
      "metadata": {
        "id": "zFIJd47Ae1rL"
      }
    },
    {
      "cell_type": "code",
      "source": [
        "look_back=100\n",
        "trainPredictPlot = np.empty_like(df)\n",
        "trainPredictPlot[:, :] = np.nan\n",
        "trainPredictPlot[look_back:len(train_predict)+look_back, :] = train_predict\n",
        "\n",
        "testPredictPlot = np.empty_like(df)\n",
        "testPredictPlot[:, :] = np.nan\n",
        "\n",
        "\n",
        "plt.plot(scaler.inverse_transform(df),label='Plot from dataset')\n",
        "plt.plot(trainPredictPlot,'r',label='Trained prediction plot')\n",
        "\n",
        "plt.plot(testPredictPlot,label='Test prediction plot')\n",
        "plt.legend()\n",
        "plt.show()"
      ],
      "metadata": {
        "colab": {
          "base_uri": "https://localhost:8080/",
          "height": 430
        },
        "id": "Y48aBCM8jI-t",
        "outputId": "a708c50c-8001-4776-c369-e21a4cd09606"
      },
      "execution_count": null,
      "outputs": [
        {
          "output_type": "display_data",
          "data": {
            "text/plain": [
              "<Figure size 640x480 with 1 Axes>"
            ],
            "image/png": "[encoded data removed]"
          },
          "metadata": {}
        }
      ]
    },
    {
      "cell_type": "code",
      "source": [
        "len(test_data)"
      ],
      "metadata": {
        "colab": {
          "base_uri": "https://localhost:8080/"
        },
        "id": "JzzNMaR-j0Ef",
        "outputId": "13ecd111-e1e6-49a3-b09e-c5295d041131"
      },
      "execution_count": null,
      "outputs": [
        {
          "output_type": "execute_result",
          "data": {
            "text/plain": [
              "509"
            ]
          },
          "metadata": {},
          "execution_count": 52
        }
      ]
    },
    {
      "cell_type": "code",
      "source": [
        "x_input=test_data[409:].reshape(1,-1)\n",
        "x_input.shape"
      ],
      "metadata": {
        "colab": {
          "base_uri": "https://localhost:8080/"
        },
        "id": "VlBnvLyVj1-r",
        "outputId": "8529ee06-de03-409b-df07-8e13e71f44d6"
      },
      "execution_count": null,
      "outputs": [
        {
          "output_type": "execute_result",
          "data": {
            "text/plain": [
              "(1, 100)"
            ]
          },
          "metadata": {},
          "execution_count": 53
        }
      ]
    },
    {
      "cell_type": "code",
      "source": [
        "training_size=int(len(df)*0.65)\n",
        "test_size=len(df)-training_size\n",
        "train_data,test_data=df[0:training_size,:],df[training_size:len(df),:1]"
      ],
      "metadata": {
        "id": "JMyfL0WZkA2r"
      },
      "execution_count": null,
      "outputs": []
    },
    {
      "cell_type": "code",
      "source": [
        "training_size,test_size\n"
      ],
      "metadata": {
        "colab": {
          "base_uri": "https://localhost:8080/"
        },
        "id": "KcJSvCvHkGtt",
        "outputId": "ab987da7-d53f-4e3b-a1d9-974e6d70cf8d"
      },
      "execution_count": null,
      "outputs": [
        {
          "output_type": "execute_result",
          "data": {
            "text/plain": [
              "(1322, 713)"
            ]
          },
          "metadata": {},
          "execution_count": 55
        }
      ]
    },
    {
      "cell_type": "code",
      "source": [
        "train_data"
      ],
      "metadata": {
        "colab": {
          "base_uri": "https://localhost:8080/"
        },
        "id": "HFl4PIgDkR3q",
        "outputId": "3578f07f-432a-45ea-ca90-6e87b6fdc136"
      },
      "execution_count": null,
      "outputs": [
        {
          "output_type": "execute_result",
          "data": {
            "text/plain": [
              "array([[0.62418301],\n",
              "       [0.62214052],\n",
              "       [0.62622549],\n",
              "       ...,\n",
              "       [0.25347222],\n",
              "       [0.26041667],\n",
              "       [0.2563317 ]])"
            ]
          },
          "metadata": {},
          "execution_count": 56
        }
      ]
    },
    {
      "cell_type": "code",
      "source": [
        "temp_input=list(x_input)\n",
        "temp_input=temp_input[0].tolist()\n",
        "temp_input"
      ],
      "metadata": {
        "colab": {
          "base_uri": "https://localhost:8080/"
        },
        "id": "efD6SaJGkbvy",
        "outputId": "e58e78f7-2f56-4277-ed36-e8eaec833aa6"
      },
      "execution_count": null,
      "outputs": [
        {
          "output_type": "execute_result",
          "data": {
            "text/plain": [
              "[0.12479575163398693,\n",
              " 0.1384803921568627,\n",
              " 0.14011437908496732,\n",
              " 0.1388888888888889,\n",
              " 0.13541666666666663,\n",
              " 0.14011437908496732,\n",
              " 0.13807189542483655,\n",
              " 0.130718954248366,\n",
              " 0.130718954248366,\n",
              " 0.12867647058823528,\n",
              " 0.11846405228758167,\n",
              " 0.14644607843137253,\n",
              " 0.1480800653594771,\n",
              " 0.159109477124183,\n",
              " 0.15992647058823523,\n",
              " 0.1578839869281045,\n",
              " 0.16441993464052285,\n",
              " 0.178921568627451,\n",
              " 0.17933006535947704,\n",
              " 0.19260620915032678,\n",
              " 0.2081290849673203,\n",
              " 0.18974673202614378,\n",
              " 0.18055555555555558,\n",
              " 0.1823937908496731,\n",
              " 0.17708333333333326,\n",
              " 0.17810457516339862,\n",
              " 0.18055555555555558,\n",
              " 0.17810457516339862,\n",
              " 0.17851307189542487,\n",
              " 0.196078431372549,\n",
              " 0.18913398692810457,\n",
              " 0.1895424836601307,\n",
              " 0.19403594771241828,\n",
              " 0.19444444444444442,\n",
              " 0.20200163398692816,\n",
              " 0.19771241830065356,\n",
              " 0.19934640522875813,\n",
              " 0.19873366013071891,\n",
              " 0.19975490196078427,\n",
              " 0.21282679738562094,\n",
              " 0.21568627450980393,\n",
              " 0.2044526143790849,\n",
              " 0.21772875816993464,\n",
              " 0.21098856209150318,\n",
              " 0.21425653594771243,\n",
              " 0.1975081699346406,\n",
              " 0.1881127450980392,\n",
              " 0.17851307189542487,\n",
              " 0.17381535947712412,\n",
              " 0.16033496732026142,\n",
              " 0.16564542483660127,\n",
              " 0.1711601307189542,\n",
              " 0.17422385620915026,\n",
              " 0.1803513071895424,\n",
              " 0.1740196078431372,\n",
              " 0.16278594771241828,\n",
              " 0.1697303921568627,\n",
              " 0.17810457516339862,\n",
              " 0.1703431372549019,\n",
              " 0.16830065359477125,\n",
              " 0.17279411764705876,\n",
              " 0.1754493464052288,\n",
              " 0.18382352941176472,\n",
              " 0.19138071895424835,\n",
              " 0.18913398692810457,\n",
              " 0.1909722222222222,\n",
              " 0.17238562091503273,\n",
              " 0.16830065359477125,\n",
              " 0.16932189542483655,\n",
              " 0.1717728758169934,\n",
              " 0.16156045751633985,\n",
              " 0.14971405228758167,\n",
              " 0.15032679738562088,\n",
              " 0.1519607843137255,\n",
              " 0.1472630718954248,\n",
              " 0.14501633986928103,\n",
              " 0.14603758169934639,\n",
              " 0.12479575163398693,\n",
              " 0.13112745098039214,\n",
              " 0.11397058823529405,\n",
              " 0.11907679738562088,\n",
              " 0.12377450980392157,\n",
              " 0.13562091503267976,\n",
              " 0.12908496732026142,\n",
              " 0.1345996732026144,\n",
              " 0.12806372549019607,\n",
              " 0.13031045751633985,\n",
              " 0.12724673202614373,\n",
              " 0.13521241830065356,\n",
              " 0.1452205882352941,\n",
              " 0.15257352941176466,\n",
              " 0.14848856209150324,\n",
              " 0.14338235294117646,\n",
              " 0.14562908496732024,\n",
              " 0.1523692810457516,\n",
              " 0.15400326797385622,\n",
              " 0.14971405228758167,\n",
              " 0.16217320261437906,\n",
              " 0.16319444444444448,\n",
              " 0.16584967320261434]"
            ]
          },
          "metadata": {},
          "execution_count": 57
        }
      ]
    },
    {
      "cell_type": "code",
      "source": [
        "lst_output=[]\n",
        "n_steps=100\n",
        "i=0\n",
        "while(i<30):\n",
        "\n",
        "    if(len(temp_input)>100):\n",
        "        x_input=np.array(temp_input[1:])\n",
        "        print(\"{} day input {}\".format(i,x_input))\n",
        "        x_input=x_input.reshape(1,-1)\n",
        "        x_input = x_input.reshape((1, n_steps, 1))\n",
        "\n",
        "        yhat = model.predict(x_input, verbose=0)\n",
        "        print(\"{} day output {}\".format(i,yhat))\n",
        "        temp_input.extend(yhat[0].tolist())\n",
        "        temp_input=temp_input[1:]\n",
        "\n",
        "        lst_output.extend(yhat.tolist())\n",
        "        i=i+1\n",
        "    else:\n",
        "        x_input = x_input.reshape((1, n_steps,1))\n",
        "        yhat = model.predict(x_input, verbose=0)\n",
        "        print(yhat[0])\n",
        "        temp_input.extend(yhat[0].tolist())\n",
        "        print(len(temp_input))\n",
        "        lst_output.extend(yhat.tolist())\n",
        "        i=i+1\n",
        "\n",
        "\n",
        "print(lst_output)"
      ],
      "metadata": {
        "colab": {
          "base_uri": "https://localhost:8080/"
        },
        "id": "U3tWF1fakgJI",
        "outputId": "d4fcd28c-37b2-49ac-eba4-1ac942f62580"
      },
      "execution_count": null,
      "outputs": [
        {
          "output_type": "stream",
          "name": "stdout",
          "text": [
            "[0.1637868]\n",
            "101\n",
            "1 day input [0.13848039 0.14011438 0.13888889 0.13541667 0.14011438 0.1380719\n",
            " 0.13071895 0.13071895 0.12867647 0.11846405 0.14644608 0.14808007\n",
            " 0.15910948 0.15992647 0.15788399 0.16441993 0.17892157 0.17933007\n",
            " 0.19260621 0.20812908 0.18974673 0.18055556 0.18239379 0.17708333\n",
            " 0.17810458 0.18055556 0.17810458 0.17851307 0.19607843 0.18913399\n",
            " 0.18954248 0.19403595 0.19444444 0.20200163 0.19771242 0.19934641\n",
            " 0.19873366 0.1997549  0.2128268  0.21568627 0.20445261 0.21772876\n",
            " 0.21098856 0.21425654 0.19750817 0.18811275 0.17851307 0.17381536\n",
            " 0.16033497 0.16564542 0.17116013 0.17422386 0.18035131 0.17401961\n",
            " 0.16278595 0.16973039 0.17810458 0.17034314 0.16830065 0.17279412\n",
            " 0.17544935 0.18382353 0.19138072 0.18913399 0.19097222 0.17238562\n",
            " 0.16830065 0.1693219  0.17177288 0.16156046 0.14971405 0.1503268\n",
            " 0.15196078 0.14726307 0.14501634 0.14603758 0.12479575 0.13112745\n",
            " 0.11397059 0.1190768  0.12377451 0.13562092 0.12908497 0.13459967\n",
            " 0.12806373 0.13031046 0.12724673 0.13521242 0.14522059 0.15257353\n",
            " 0.14848856 0.14338235 0.14562908 0.15236928 0.15400327 0.14971405\n",
            " 0.1621732  0.16319444 0.16584967 0.1637868 ]\n",
            "1 day output [[0.1645906]]\n",
            "2 day input [0.14011438 0.13888889 0.13541667 0.14011438 0.1380719  0.13071895\n",
            " 0.13071895 0.12867647 0.11846405 0.14644608 0.14808007 0.15910948\n",
            " 0.15992647 0.15788399 0.16441993 0.17892157 0.17933007 0.19260621\n",
            " 0.20812908 0.18974673 0.18055556 0.18239379 0.17708333 0.17810458\n",
            " 0.18055556 0.17810458 0.17851307 0.19607843 0.18913399 0.18954248\n",
            " 0.19403595 0.19444444 0.20200163 0.19771242 0.19934641 0.19873366\n",
            " 0.1997549  0.2128268  0.21568627 0.20445261 0.21772876 0.21098856\n",
            " 0.21425654 0.19750817 0.18811275 0.17851307 0.17381536 0.16033497\n",
            " 0.16564542 0.17116013 0.17422386 0.18035131 0.17401961 0.16278595\n",
            " 0.16973039 0.17810458 0.17034314 0.16830065 0.17279412 0.17544935\n",
            " 0.18382353 0.19138072 0.18913399 0.19097222 0.17238562 0.16830065\n",
            " 0.1693219  0.17177288 0.16156046 0.14971405 0.1503268  0.15196078\n",
            " 0.14726307 0.14501634 0.14603758 0.12479575 0.13112745 0.11397059\n",
            " 0.1190768  0.12377451 0.13562092 0.12908497 0.13459967 0.12806373\n",
            " 0.13031046 0.12724673 0.13521242 0.14522059 0.15257353 0.14848856\n",
            " 0.14338235 0.14562908 0.15236928 0.15400327 0.14971405 0.1621732\n",
            " 0.16319444 0.16584967 0.1637868  0.1645906 ]\n",
            "2 day output [[0.16438772]]\n",
            "3 day input [0.13888889 0.13541667 0.14011438 0.1380719  0.13071895 0.13071895\n",
            " 0.12867647 0.11846405 0.14644608 0.14808007 0.15910948 0.15992647\n",
            " 0.15788399 0.16441993 0.17892157 0.17933007 0.19260621 0.20812908\n",
            " 0.18974673 0.18055556 0.18239379 0.17708333 0.17810458 0.18055556\n",
            " 0.17810458 0.17851307 0.19607843 0.18913399 0.18954248 0.19403595\n",
            " 0.19444444 0.20200163 0.19771242 0.19934641 0.19873366 0.1997549\n",
            " 0.2128268  0.21568627 0.20445261 0.21772876 0.21098856 0.21425654\n",
            " 0.19750817 0.18811275 0.17851307 0.17381536 0.16033497 0.16564542\n",
            " 0.17116013 0.17422386 0.18035131 0.17401961 0.16278595 0.16973039\n",
            " 0.17810458 0.17034314 0.16830065 0.17279412 0.17544935 0.18382353\n",
            " 0.19138072 0.18913399 0.19097222 0.17238562 0.16830065 0.1693219\n",
            " 0.17177288 0.16156046 0.14971405 0.1503268  0.15196078 0.14726307\n",
            " 0.14501634 0.14603758 0.12479575 0.13112745 0.11397059 0.1190768\n",
            " 0.12377451 0.13562092 0.12908497 0.13459967 0.12806373 0.13031046\n",
            " 0.12724673 0.13521242 0.14522059 0.15257353 0.14848856 0.14338235\n",
            " 0.14562908 0.15236928 0.15400327 0.14971405 0.1621732  0.16319444\n",
            " 0.16584967 0.1637868  0.1645906  0.16438772]\n",
            "3 day output [[0.16387624]]\n",
            "4 day input [0.13541667 0.14011438 0.1380719  0.13071895 0.13071895 0.12867647\n",
            " 0.11846405 0.14644608 0.14808007 0.15910948 0.15992647 0.15788399\n",
            " 0.16441993 0.17892157 0.17933007 0.19260621 0.20812908 0.18974673\n",
            " 0.18055556 0.18239379 0.17708333 0.17810458 0.18055556 0.17810458\n",
            " 0.17851307 0.19607843 0.18913399 0.18954248 0.19403595 0.19444444\n",
            " 0.20200163 0.19771242 0.19934641 0.19873366 0.1997549  0.2128268\n",
            " 0.21568627 0.20445261 0.21772876 0.21098856 0.21425654 0.19750817\n",
            " 0.18811275 0.17851307 0.17381536 0.16033497 0.16564542 0.17116013\n",
            " 0.17422386 0.18035131 0.17401961 0.16278595 0.16973039 0.17810458\n",
            " 0.17034314 0.16830065 0.17279412 0.17544935 0.18382353 0.19138072\n",
            " 0.18913399 0.19097222 0.17238562 0.16830065 0.1693219  0.17177288\n",
            " 0.16156046 0.14971405 0.1503268  0.15196078 0.14726307 0.14501634\n",
            " 0.14603758 0.12479575 0.13112745 0.11397059 0.1190768  0.12377451\n",
            " 0.13562092 0.12908497 0.13459967 0.12806373 0.13031046 0.12724673\n",
            " 0.13521242 0.14522059 0.15257353 0.14848856 0.14338235 0.14562908\n",
            " 0.15236928 0.15400327 0.14971405 0.1621732  0.16319444 0.16584967\n",
            " 0.1637868  0.1645906  0.16438772 0.16387624]\n",
            "4 day output [[0.16327168]]\n",
            "5 day input [0.14011438 0.1380719  0.13071895 0.13071895 0.12867647 0.11846405\n",
            " 0.14644608 0.14808007 0.15910948 0.15992647 0.15788399 0.16441993\n",
            " 0.17892157 0.17933007 0.19260621 0.20812908 0.18974673 0.18055556\n",
            " 0.18239379 0.17708333 0.17810458 0.18055556 0.17810458 0.17851307\n",
            " 0.19607843 0.18913399 0.18954248 0.19403595 0.19444444 0.20200163\n",
            " 0.19771242 0.19934641 0.19873366 0.1997549  0.2128268  0.21568627\n",
            " 0.20445261 0.21772876 0.21098856 0.21425654 0.19750817 0.18811275\n",
            " 0.17851307 0.17381536 0.16033497 0.16564542 0.17116013 0.17422386\n",
            " 0.18035131 0.17401961 0.16278595 0.16973039 0.17810458 0.17034314\n",
            " 0.16830065 0.17279412 0.17544935 0.18382353 0.19138072 0.18913399\n",
            " 0.19097222 0.17238562 0.16830065 0.1693219  0.17177288 0.16156046\n",
            " 0.14971405 0.1503268  0.15196078 0.14726307 0.14501634 0.14603758\n",
            " 0.12479575 0.13112745 0.11397059 0.1190768  0.12377451 0.13562092\n",
            " 0.12908497 0.13459967 0.12806373 0.13031046 0.12724673 0.13521242\n",
            " 0.14522059 0.15257353 0.14848856 0.14338235 0.14562908 0.15236928\n",
            " 0.15400327 0.14971405 0.1621732  0.16319444 0.16584967 0.1637868\n",
            " 0.1645906  0.16438772 0.16387624 0.16327168]\n",
            "5 day output [[0.16264427]]\n",
            "6 day input [0.1380719  0.13071895 0.13071895 0.12867647 0.11846405 0.14644608\n",
            " 0.14808007 0.15910948 0.15992647 0.15788399 0.16441993 0.17892157\n",
            " 0.17933007 0.19260621 0.20812908 0.18974673 0.18055556 0.18239379\n",
            " 0.17708333 0.17810458 0.18055556 0.17810458 0.17851307 0.19607843\n",
            " 0.18913399 0.18954248 0.19403595 0.19444444 0.20200163 0.19771242\n",
            " 0.19934641 0.19873366 0.1997549  0.2128268  0.21568627 0.20445261\n",
            " 0.21772876 0.21098856 0.21425654 0.19750817 0.18811275 0.17851307\n",
            " 0.17381536 0.16033497 0.16564542 0.17116013 0.17422386 0.18035131\n",
            " 0.17401961 0.16278595 0.16973039 0.17810458 0.17034314 0.16830065\n",
            " 0.17279412 0.17544935 0.18382353 0.19138072 0.18913399 0.19097222\n",
            " 0.17238562 0.16830065 0.1693219  0.17177288 0.16156046 0.14971405\n",
            " 0.1503268  0.15196078 0.14726307 0.14501634 0.14603758 0.12479575\n",
            " 0.13112745 0.11397059 0.1190768  0.12377451 0.13562092 0.12908497\n",
            " 0.13459967 0.12806373 0.13031046 0.12724673 0.13521242 0.14522059\n",
            " 0.15257353 0.14848856 0.14338235 0.14562908 0.15236928 0.15400327\n",
            " 0.14971405 0.1621732  0.16319444 0.16584967 0.1637868  0.1645906\n",
            " 0.16438772 0.16387624 0.16327168 0.16264427]\n",
            "6 day output [[0.16202411]]\n",
            "7 day input [0.13071895 0.13071895 0.12867647 0.11846405 0.14644608 0.14808007\n",
            " 0.15910948 0.15992647 0.15788399 0.16441993 0.17892157 0.17933007\n",
            " 0.19260621 0.20812908 0.18974673 0.18055556 0.18239379 0.17708333\n",
            " 0.17810458 0.18055556 0.17810458 0.17851307 0.19607843 0.18913399\n",
            " 0.18954248 0.19403595 0.19444444 0.20200163 0.19771242 0.19934641\n",
            " 0.19873366 0.1997549  0.2128268  0.21568627 0.20445261 0.21772876\n",
            " 0.21098856 0.21425654 0.19750817 0.18811275 0.17851307 0.17381536\n",
            " 0.16033497 0.16564542 0.17116013 0.17422386 0.18035131 0.17401961\n",
            " 0.16278595 0.16973039 0.17810458 0.17034314 0.16830065 0.17279412\n",
            " 0.17544935 0.18382353 0.19138072 0.18913399 0.19097222 0.17238562\n",
            " 0.16830065 0.1693219  0.17177288 0.16156046 0.14971405 0.1503268\n",
            " 0.15196078 0.14726307 0.14501634 0.14603758 0.12479575 0.13112745\n",
            " 0.11397059 0.1190768  0.12377451 0.13562092 0.12908497 0.13459967\n",
            " 0.12806373 0.13031046 0.12724673 0.13521242 0.14522059 0.15257353\n",
            " 0.14848856 0.14338235 0.14562908 0.15236928 0.15400327 0.14971405\n",
            " 0.1621732  0.16319444 0.16584967 0.1637868  0.1645906  0.16438772\n",
            " 0.16387624 0.16327168 0.16264427 0.16202411]\n",
            "7 day output [[0.16142786]]\n",
            "8 day input [0.13071895 0.12867647 0.11846405 0.14644608 0.14808007 0.15910948\n",
            " 0.15992647 0.15788399 0.16441993 0.17892157 0.17933007 0.19260621\n",
            " 0.20812908 0.18974673 0.18055556 0.18239379 0.17708333 0.17810458\n",
            " 0.18055556 0.17810458 0.17851307 0.19607843 0.18913399 0.18954248\n",
            " 0.19403595 0.19444444 0.20200163 0.19771242 0.19934641 0.19873366\n",
            " 0.1997549  0.2128268  0.21568627 0.20445261 0.21772876 0.21098856\n",
            " 0.21425654 0.19750817 0.18811275 0.17851307 0.17381536 0.16033497\n",
            " 0.16564542 0.17116013 0.17422386 0.18035131 0.17401961 0.16278595\n",
            " 0.16973039 0.17810458 0.17034314 0.16830065 0.17279412 0.17544935\n",
            " 0.18382353 0.19138072 0.18913399 0.19097222 0.17238562 0.16830065\n",
            " 0.1693219  0.17177288 0.16156046 0.14971405 0.1503268  0.15196078\n",
            " 0.14726307 0.14501634 0.14603758 0.12479575 0.13112745 0.11397059\n",
            " 0.1190768  0.12377451 0.13562092 0.12908497 0.13459967 0.12806373\n",
            " 0.13031046 0.12724673 0.13521242 0.14522059 0.15257353 0.14848856\n",
            " 0.14338235 0.14562908 0.15236928 0.15400327 0.14971405 0.1621732\n",
            " 0.16319444 0.16584967 0.1637868  0.1645906  0.16438772 0.16387624\n",
            " 0.16327168 0.16264427 0.16202411 0.16142786]\n",
            "8 day output [[0.16086544]]\n",
            "9 day input [0.12867647 0.11846405 0.14644608 0.14808007 0.15910948 0.15992647\n",
            " 0.15788399 0.16441993 0.17892157 0.17933007 0.19260621 0.20812908\n",
            " 0.18974673 0.18055556 0.18239379 0.17708333 0.17810458 0.18055556\n",
            " 0.17810458 0.17851307 0.19607843 0.18913399 0.18954248 0.19403595\n",
            " 0.19444444 0.20200163 0.19771242 0.19934641 0.19873366 0.1997549\n",
            " 0.2128268  0.21568627 0.20445261 0.21772876 0.21098856 0.21425654\n",
            " 0.19750817 0.18811275 0.17851307 0.17381536 0.16033497 0.16564542\n",
            " 0.17116013 0.17422386 0.18035131 0.17401961 0.16278595 0.16973039\n",
            " 0.17810458 0.17034314 0.16830065 0.17279412 0.17544935 0.18382353\n",
            " 0.19138072 0.18913399 0.19097222 0.17238562 0.16830065 0.1693219\n",
            " 0.17177288 0.16156046 0.14971405 0.1503268  0.15196078 0.14726307\n",
            " 0.14501634 0.14603758 0.12479575 0.13112745 0.11397059 0.1190768\n",
            " 0.12377451 0.13562092 0.12908497 0.13459967 0.12806373 0.13031046\n",
            " 0.12724673 0.13521242 0.14522059 0.15257353 0.14848856 0.14338235\n",
            " 0.14562908 0.15236928 0.15400327 0.14971405 0.1621732  0.16319444\n",
            " 0.16584967 0.1637868  0.1645906  0.16438772 0.16387624 0.16327168\n",
            " 0.16264427 0.16202411 0.16142786 0.16086544]\n",
            "9 day output [[0.16034319]]\n",
            "10 day input [0.11846405 0.14644608 0.14808007 0.15910948 0.15992647 0.15788399\n",
            " 0.16441993 0.17892157 0.17933007 0.19260621 0.20812908 0.18974673\n",
            " 0.18055556 0.18239379 0.17708333 0.17810458 0.18055556 0.17810458\n",
            " 0.17851307 0.19607843 0.18913399 0.18954248 0.19403595 0.19444444\n",
            " 0.20200163 0.19771242 0.19934641 0.19873366 0.1997549  0.2128268\n",
            " 0.21568627 0.20445261 0.21772876 0.21098856 0.21425654 0.19750817\n",
            " 0.18811275 0.17851307 0.17381536 0.16033497 0.16564542 0.17116013\n",
            " 0.17422386 0.18035131 0.17401961 0.16278595 0.16973039 0.17810458\n",
            " 0.17034314 0.16830065 0.17279412 0.17544935 0.18382353 0.19138072\n",
            " 0.18913399 0.19097222 0.17238562 0.16830065 0.1693219  0.17177288\n",
            " 0.16156046 0.14971405 0.1503268  0.15196078 0.14726307 0.14501634\n",
            " 0.14603758 0.12479575 0.13112745 0.11397059 0.1190768  0.12377451\n",
            " 0.13562092 0.12908497 0.13459967 0.12806373 0.13031046 0.12724673\n",
            " 0.13521242 0.14522059 0.15257353 0.14848856 0.14338235 0.14562908\n",
            " 0.15236928 0.15400327 0.14971405 0.1621732  0.16319444 0.16584967\n",
            " 0.1637868  0.1645906  0.16438772 0.16387624 0.16327168 0.16264427\n",
            " 0.16202411 0.16142786 0.16086544 0.16034319]\n",
            "10 day output [[0.15986483]]\n",
            "11 day input [0.14644608 0.14808007 0.15910948 0.15992647 0.15788399 0.16441993\n",
            " 0.17892157 0.17933007 0.19260621 0.20812908 0.18974673 0.18055556\n",
            " 0.18239379 0.17708333 0.17810458 0.18055556 0.17810458 0.17851307\n",
            " 0.19607843 0.18913399 0.18954248 0.19403595 0.19444444 0.20200163\n",
            " 0.19771242 0.19934641 0.19873366 0.1997549  0.2128268  0.21568627\n",
            " 0.20445261 0.21772876 0.21098856 0.21425654 0.19750817 0.18811275\n",
            " 0.17851307 0.17381536 0.16033497 0.16564542 0.17116013 0.17422386\n",
            " 0.18035131 0.17401961 0.16278595 0.16973039 0.17810458 0.17034314\n",
            " 0.16830065 0.17279412 0.17544935 0.18382353 0.19138072 0.18913399\n",
            " 0.19097222 0.17238562 0.16830065 0.1693219  0.17177288 0.16156046\n",
            " 0.14971405 0.1503268  0.15196078 0.14726307 0.14501634 0.14603758\n",
            " 0.12479575 0.13112745 0.11397059 0.1190768  0.12377451 0.13562092\n",
            " 0.12908497 0.13459967 0.12806373 0.13031046 0.12724673 0.13521242\n",
            " 0.14522059 0.15257353 0.14848856 0.14338235 0.14562908 0.15236928\n",
            " 0.15400327 0.14971405 0.1621732  0.16319444 0.16584967 0.1637868\n",
            " 0.1645906  0.16438772 0.16387624 0.16327168 0.16264427 0.16202411\n",
            " 0.16142786 0.16086544 0.16034319 0.15986483]\n",
            "11 day output [[0.15943249]]\n",
            "12 day input [0.14808007 0.15910948 0.15992647 0.15788399 0.16441993 0.17892157\n",
            " 0.17933007 0.19260621 0.20812908 0.18974673 0.18055556 0.18239379\n",
            " 0.17708333 0.17810458 0.18055556 0.17810458 0.17851307 0.19607843\n",
            " 0.18913399 0.18954248 0.19403595 0.19444444 0.20200163 0.19771242\n",
            " 0.19934641 0.19873366 0.1997549  0.2128268  0.21568627 0.20445261\n",
            " 0.21772876 0.21098856 0.21425654 0.19750817 0.18811275 0.17851307\n",
            " 0.17381536 0.16033497 0.16564542 0.17116013 0.17422386 0.18035131\n",
            " 0.17401961 0.16278595 0.16973039 0.17810458 0.17034314 0.16830065\n",
            " 0.17279412 0.17544935 0.18382353 0.19138072 0.18913399 0.19097222\n",
            " 0.17238562 0.16830065 0.1693219  0.17177288 0.16156046 0.14971405\n",
            " 0.1503268  0.15196078 0.14726307 0.14501634 0.14603758 0.12479575\n",
            " 0.13112745 0.11397059 0.1190768  0.12377451 0.13562092 0.12908497\n",
            " 0.13459967 0.12806373 0.13031046 0.12724673 0.13521242 0.14522059\n",
            " 0.15257353 0.14848856 0.14338235 0.14562908 0.15236928 0.15400327\n",
            " 0.14971405 0.1621732  0.16319444 0.16584967 0.1637868  0.1645906\n",
            " 0.16438772 0.16387624 0.16327168 0.16264427 0.16202411 0.16142786\n",
            " 0.16086544 0.16034319 0.15986483 0.15943249]\n",
            "12 day output [[0.15904683]]\n",
            "13 day input [0.15910948 0.15992647 0.15788399 0.16441993 0.17892157 0.17933007\n",
            " 0.19260621 0.20812908 0.18974673 0.18055556 0.18239379 0.17708333\n",
            " 0.17810458 0.18055556 0.17810458 0.17851307 0.19607843 0.18913399\n",
            " 0.18954248 0.19403595 0.19444444 0.20200163 0.19771242 0.19934641\n",
            " 0.19873366 0.1997549  0.2128268  0.21568627 0.20445261 0.21772876\n",
            " 0.21098856 0.21425654 0.19750817 0.18811275 0.17851307 0.17381536\n",
            " 0.16033497 0.16564542 0.17116013 0.17422386 0.18035131 0.17401961\n",
            " 0.16278595 0.16973039 0.17810458 0.17034314 0.16830065 0.17279412\n",
            " 0.17544935 0.18382353 0.19138072 0.18913399 0.19097222 0.17238562\n",
            " 0.16830065 0.1693219  0.17177288 0.16156046 0.14971405 0.1503268\n",
            " 0.15196078 0.14726307 0.14501634 0.14603758 0.12479575 0.13112745\n",
            " 0.11397059 0.1190768  0.12377451 0.13562092 0.12908497 0.13459967\n",
            " 0.12806373 0.13031046 0.12724673 0.13521242 0.14522059 0.15257353\n",
            " 0.14848856 0.14338235 0.14562908 0.15236928 0.15400327 0.14971405\n",
            " 0.1621732  0.16319444 0.16584967 0.1637868  0.1645906  0.16438772\n",
            " 0.16387624 0.16327168 0.16264427 0.16202411 0.16142786 0.16086544\n",
            " 0.16034319 0.15986483 0.15943249 0.15904683]\n",
            "13 day output [[0.15870714]]\n",
            "14 day input [0.15992647 0.15788399 0.16441993 0.17892157 0.17933007 0.19260621\n",
            " 0.20812908 0.18974673 0.18055556 0.18239379 0.17708333 0.17810458\n",
            " 0.18055556 0.17810458 0.17851307 0.19607843 0.18913399 0.18954248\n",
            " 0.19403595 0.19444444 0.20200163 0.19771242 0.19934641 0.19873366\n",
            " 0.1997549  0.2128268  0.21568627 0.20445261 0.21772876 0.21098856\n",
            " 0.21425654 0.19750817 0.18811275 0.17851307 0.17381536 0.16033497\n",
            " 0.16564542 0.17116013 0.17422386 0.18035131 0.17401961 0.16278595\n",
            " 0.16973039 0.17810458 0.17034314 0.16830065 0.17279412 0.17544935\n",
            " 0.18382353 0.19138072 0.18913399 0.19097222 0.17238562 0.16830065\n",
            " 0.1693219  0.17177288 0.16156046 0.14971405 0.1503268  0.15196078\n",
            " 0.14726307 0.14501634 0.14603758 0.12479575 0.13112745 0.11397059\n",
            " 0.1190768  0.12377451 0.13562092 0.12908497 0.13459967 0.12806373\n",
            " 0.13031046 0.12724673 0.13521242 0.14522059 0.15257353 0.14848856\n",
            " 0.14338235 0.14562908 0.15236928 0.15400327 0.14971405 0.1621732\n",
            " 0.16319444 0.16584967 0.1637868  0.1645906  0.16438772 0.16387624\n",
            " 0.16327168 0.16264427 0.16202411 0.16142786 0.16086544 0.16034319\n",
            " 0.15986483 0.15943249 0.15904683 0.15870714]\n",
            "14 day output [[0.15841183]]\n",
            "15 day input [0.15788399 0.16441993 0.17892157 0.17933007 0.19260621 0.20812908\n",
            " 0.18974673 0.18055556 0.18239379 0.17708333 0.17810458 0.18055556\n",
            " 0.17810458 0.17851307 0.19607843 0.18913399 0.18954248 0.19403595\n",
            " 0.19444444 0.20200163 0.19771242 0.19934641 0.19873366 0.1997549\n",
            " 0.2128268  0.21568627 0.20445261 0.21772876 0.21098856 0.21425654\n",
            " 0.19750817 0.18811275 0.17851307 0.17381536 0.16033497 0.16564542\n",
            " 0.17116013 0.17422386 0.18035131 0.17401961 0.16278595 0.16973039\n",
            " 0.17810458 0.17034314 0.16830065 0.17279412 0.17544935 0.18382353\n",
            " 0.19138072 0.18913399 0.19097222 0.17238562 0.16830065 0.1693219\n",
            " 0.17177288 0.16156046 0.14971405 0.1503268  0.15196078 0.14726307\n",
            " 0.14501634 0.14603758 0.12479575 0.13112745 0.11397059 0.1190768\n",
            " 0.12377451 0.13562092 0.12908497 0.13459967 0.12806373 0.13031046\n",
            " 0.12724673 0.13521242 0.14522059 0.15257353 0.14848856 0.14338235\n",
            " 0.14562908 0.15236928 0.15400327 0.14971405 0.1621732  0.16319444\n",
            " 0.16584967 0.1637868  0.1645906  0.16438772 0.16387624 0.16327168\n",
            " 0.16264427 0.16202411 0.16142786 0.16086544 0.16034319 0.15986483\n",
            " 0.15943249 0.15904683 0.15870714 0.15841183]\n",
            "15 day output [[0.1581583]]\n",
            "16 day input [0.16441993 0.17892157 0.17933007 0.19260621 0.20812908 0.18974673\n",
            " 0.18055556 0.18239379 0.17708333 0.17810458 0.18055556 0.17810458\n",
            " 0.17851307 0.19607843 0.18913399 0.18954248 0.19403595 0.19444444\n",
            " 0.20200163 0.19771242 0.19934641 0.19873366 0.1997549  0.2128268\n",
            " 0.21568627 0.20445261 0.21772876 0.21098856 0.21425654 0.19750817\n",
            " 0.18811275 0.17851307 0.17381536 0.16033497 0.16564542 0.17116013\n",
            " 0.17422386 0.18035131 0.17401961 0.16278595 0.16973039 0.17810458\n",
            " 0.17034314 0.16830065 0.17279412 0.17544935 0.18382353 0.19138072\n",
            " 0.18913399 0.19097222 0.17238562 0.16830065 0.1693219  0.17177288\n",
            " 0.16156046 0.14971405 0.1503268  0.15196078 0.14726307 0.14501634\n",
            " 0.14603758 0.12479575 0.13112745 0.11397059 0.1190768  0.12377451\n",
            " 0.13562092 0.12908497 0.13459967 0.12806373 0.13031046 0.12724673\n",
            " 0.13521242 0.14522059 0.15257353 0.14848856 0.14338235 0.14562908\n",
            " 0.15236928 0.15400327 0.14971405 0.1621732  0.16319444 0.16584967\n",
            " 0.1637868  0.1645906  0.16438772 0.16387624 0.16327168 0.16264427\n",
            " 0.16202411 0.16142786 0.16086544 0.16034319 0.15986483 0.15943249\n",
            " 0.15904683 0.15870714 0.15841183 0.1581583 ]\n",
            "16 day output [[0.15794334]]\n",
            "17 day input [0.17892157 0.17933007 0.19260621 0.20812908 0.18974673 0.18055556\n",
            " 0.18239379 0.17708333 0.17810458 0.18055556 0.17810458 0.17851307\n",
            " 0.19607843 0.18913399 0.18954248 0.19403595 0.19444444 0.20200163\n",
            " 0.19771242 0.19934641 0.19873366 0.1997549  0.2128268  0.21568627\n",
            " 0.20445261 0.21772876 0.21098856 0.21425654 0.19750817 0.18811275\n",
            " 0.17851307 0.17381536 0.16033497 0.16564542 0.17116013 0.17422386\n",
            " 0.18035131 0.17401961 0.16278595 0.16973039 0.17810458 0.17034314\n",
            " 0.16830065 0.17279412 0.17544935 0.18382353 0.19138072 0.18913399\n",
            " 0.19097222 0.17238562 0.16830065 0.1693219  0.17177288 0.16156046\n",
            " 0.14971405 0.1503268  0.15196078 0.14726307 0.14501634 0.14603758\n",
            " 0.12479575 0.13112745 0.11397059 0.1190768  0.12377451 0.13562092\n",
            " 0.12908497 0.13459967 0.12806373 0.13031046 0.12724673 0.13521242\n",
            " 0.14522059 0.15257353 0.14848856 0.14338235 0.14562908 0.15236928\n",
            " 0.15400327 0.14971405 0.1621732  0.16319444 0.16584967 0.1637868\n",
            " 0.1645906  0.16438772 0.16387624 0.16327168 0.16264427 0.16202411\n",
            " 0.16142786 0.16086544 0.16034319 0.15986483 0.15943249 0.15904683\n",
            " 0.15870714 0.15841183 0.1581583  0.15794334]\n",
            "17 day output [[0.15776332]]\n",
            "18 day input [0.17933007 0.19260621 0.20812908 0.18974673 0.18055556 0.18239379\n",
            " 0.17708333 0.17810458 0.18055556 0.17810458 0.17851307 0.19607843\n",
            " 0.18913399 0.18954248 0.19403595 0.19444444 0.20200163 0.19771242\n",
            " 0.19934641 0.19873366 0.1997549  0.2128268  0.21568627 0.20445261\n",
            " 0.21772876 0.21098856 0.21425654 0.19750817 0.18811275 0.17851307\n",
            " 0.17381536 0.16033497 0.16564542 0.17116013 0.17422386 0.18035131\n",
            " 0.17401961 0.16278595 0.16973039 0.17810458 0.17034314 0.16830065\n",
            " 0.17279412 0.17544935 0.18382353 0.19138072 0.18913399 0.19097222\n",
            " 0.17238562 0.16830065 0.1693219  0.17177288 0.16156046 0.14971405\n",
            " 0.1503268  0.15196078 0.14726307 0.14501634 0.14603758 0.12479575\n",
            " 0.13112745 0.11397059 0.1190768  0.12377451 0.13562092 0.12908497\n",
            " 0.13459967 0.12806373 0.13031046 0.12724673 0.13521242 0.14522059\n",
            " 0.15257353 0.14848856 0.14338235 0.14562908 0.15236928 0.15400327\n",
            " 0.14971405 0.1621732  0.16319444 0.16584967 0.1637868  0.1645906\n",
            " 0.16438772 0.16387624 0.16327168 0.16264427 0.16202411 0.16142786\n",
            " 0.16086544 0.16034319 0.15986483 0.15943249 0.15904683 0.15870714\n",
            " 0.15841183 0.1581583  0.15794334 0.15776332]\n",
            "18 day output [[0.15761426]]\n",
            "19 day input [0.19260621 0.20812908 0.18974673 0.18055556 0.18239379 0.17708333\n",
            " 0.17810458 0.18055556 0.17810458 0.17851307 0.19607843 0.18913399\n",
            " 0.18954248 0.19403595 0.19444444 0.20200163 0.19771242 0.19934641\n",
            " 0.19873366 0.1997549  0.2128268  0.21568627 0.20445261 0.21772876\n",
            " 0.21098856 0.21425654 0.19750817 0.18811275 0.17851307 0.17381536\n",
            " 0.16033497 0.16564542 0.17116013 0.17422386 0.18035131 0.17401961\n",
            " 0.16278595 0.16973039 0.17810458 0.17034314 0.16830065 0.17279412\n",
            " 0.17544935 0.18382353 0.19138072 0.18913399 0.19097222 0.17238562\n",
            " 0.16830065 0.1693219  0.17177288 0.16156046 0.14971405 0.1503268\n",
            " 0.15196078 0.14726307 0.14501634 0.14603758 0.12479575 0.13112745\n",
            " 0.11397059 0.1190768  0.12377451 0.13562092 0.12908497 0.13459967\n",
            " 0.12806373 0.13031046 0.12724673 0.13521242 0.14522059 0.15257353\n",
            " 0.14848856 0.14338235 0.14562908 0.15236928 0.15400327 0.14971405\n",
            " 0.1621732  0.16319444 0.16584967 0.1637868  0.1645906  0.16438772\n",
            " 0.16387624 0.16327168 0.16264427 0.16202411 0.16142786 0.16086544\n",
            " 0.16034319 0.15986483 0.15943249 0.15904683 0.15870714 0.15841183\n",
            " 0.1581583  0.15794334 0.15776332 0.15761426]\n",
            "19 day output [[0.15749224]]\n",
            "20 day input [0.20812908 0.18974673 0.18055556 0.18239379 0.17708333 0.17810458\n",
            " 0.18055556 0.17810458 0.17851307 0.19607843 0.18913399 0.18954248\n",
            " 0.19403595 0.19444444 0.20200163 0.19771242 0.19934641 0.19873366\n",
            " 0.1997549  0.2128268  0.21568627 0.20445261 0.21772876 0.21098856\n",
            " 0.21425654 0.19750817 0.18811275 0.17851307 0.17381536 0.16033497\n",
            " 0.16564542 0.17116013 0.17422386 0.18035131 0.17401961 0.16278595\n",
            " 0.16973039 0.17810458 0.17034314 0.16830065 0.17279412 0.17544935\n",
            " 0.18382353 0.19138072 0.18913399 0.19097222 0.17238562 0.16830065\n",
            " 0.1693219  0.17177288 0.16156046 0.14971405 0.1503268  0.15196078\n",
            " 0.14726307 0.14501634 0.14603758 0.12479575 0.13112745 0.11397059\n",
            " 0.1190768  0.12377451 0.13562092 0.12908497 0.13459967 0.12806373\n",
            " 0.13031046 0.12724673 0.13521242 0.14522059 0.15257353 0.14848856\n",
            " 0.14338235 0.14562908 0.15236928 0.15400327 0.14971405 0.1621732\n",
            " 0.16319444 0.16584967 0.1637868  0.1645906  0.16438772 0.16387624\n",
            " 0.16327168 0.16264427 0.16202411 0.16142786 0.16086544 0.16034319\n",
            " 0.15986483 0.15943249 0.15904683 0.15870714 0.15841183 0.1581583\n",
            " 0.15794334 0.15776332 0.15761426 0.15749224]\n",
            "20 day output [[0.15739329]]\n",
            "21 day input [0.18974673 0.18055556 0.18239379 0.17708333 0.17810458 0.18055556\n",
            " 0.17810458 0.17851307 0.19607843 0.18913399 0.18954248 0.19403595\n",
            " 0.19444444 0.20200163 0.19771242 0.19934641 0.19873366 0.1997549\n",
            " 0.2128268  0.21568627 0.20445261 0.21772876 0.21098856 0.21425654\n",
            " 0.19750817 0.18811275 0.17851307 0.17381536 0.16033497 0.16564542\n",
            " 0.17116013 0.17422386 0.18035131 0.17401961 0.16278595 0.16973039\n",
            " 0.17810458 0.17034314 0.16830065 0.17279412 0.17544935 0.18382353\n",
            " 0.19138072 0.18913399 0.19097222 0.17238562 0.16830065 0.1693219\n",
            " 0.17177288 0.16156046 0.14971405 0.1503268  0.15196078 0.14726307\n",
            " 0.14501634 0.14603758 0.12479575 0.13112745 0.11397059 0.1190768\n",
            " 0.12377451 0.13562092 0.12908497 0.13459967 0.12806373 0.13031046\n",
            " 0.12724673 0.13521242 0.14522059 0.15257353 0.14848856 0.14338235\n",
            " 0.14562908 0.15236928 0.15400327 0.14971405 0.1621732  0.16319444\n",
            " 0.16584967 0.1637868  0.1645906  0.16438772 0.16387624 0.16327168\n",
            " 0.16264427 0.16202411 0.16142786 0.16086544 0.16034319 0.15986483\n",
            " 0.15943249 0.15904683 0.15870714 0.15841183 0.1581583  0.15794334\n",
            " 0.15776332 0.15761426 0.15749224 0.15739329]\n",
            "21 day output [[0.15731376]]\n",
            "22 day input [0.18055556 0.18239379 0.17708333 0.17810458 0.18055556 0.17810458\n",
            " 0.17851307 0.19607843 0.18913399 0.18954248 0.19403595 0.19444444\n",
            " 0.20200163 0.19771242 0.19934641 0.19873366 0.1997549  0.2128268\n",
            " 0.21568627 0.20445261 0.21772876 0.21098856 0.21425654 0.19750817\n",
            " 0.18811275 0.17851307 0.17381536 0.16033497 0.16564542 0.17116013\n",
            " 0.17422386 0.18035131 0.17401961 0.16278595 0.16973039 0.17810458\n",
            " 0.17034314 0.16830065 0.17279412 0.17544935 0.18382353 0.19138072\n",
            " 0.18913399 0.19097222 0.17238562 0.16830065 0.1693219  0.17177288\n",
            " 0.16156046 0.14971405 0.1503268  0.15196078 0.14726307 0.14501634\n",
            " 0.14603758 0.12479575 0.13112745 0.11397059 0.1190768  0.12377451\n",
            " 0.13562092 0.12908497 0.13459967 0.12806373 0.13031046 0.12724673\n",
            " 0.13521242 0.14522059 0.15257353 0.14848856 0.14338235 0.14562908\n",
            " 0.15236928 0.15400327 0.14971405 0.1621732  0.16319444 0.16584967\n",
            " 0.1637868  0.1645906  0.16438772 0.16387624 0.16327168 0.16264427\n",
            " 0.16202411 0.16142786 0.16086544 0.16034319 0.15986483 0.15943249\n",
            " 0.15904683 0.15870714 0.15841183 0.1581583  0.15794334 0.15776332\n",
            " 0.15761426 0.15749224 0.15739329 0.15731376]\n",
            "22 day output [[0.15725015]]\n",
            "23 day input [0.18239379 0.17708333 0.17810458 0.18055556 0.17810458 0.17851307\n",
            " 0.19607843 0.18913399 0.18954248 0.19403595 0.19444444 0.20200163\n",
            " 0.19771242 0.19934641 0.19873366 0.1997549  0.2128268  0.21568627\n",
            " 0.20445261 0.21772876 0.21098856 0.21425654 0.19750817 0.18811275\n",
            " 0.17851307 0.17381536 0.16033497 0.16564542 0.17116013 0.17422386\n",
            " 0.18035131 0.17401961 0.16278595 0.16973039 0.17810458 0.17034314\n",
            " 0.16830065 0.17279412 0.17544935 0.18382353 0.19138072 0.18913399\n",
            " 0.19097222 0.17238562 0.16830065 0.1693219  0.17177288 0.16156046\n",
            " 0.14971405 0.1503268  0.15196078 0.14726307 0.14501634 0.14603758\n",
            " 0.12479575 0.13112745 0.11397059 0.1190768  0.12377451 0.13562092\n",
            " 0.12908497 0.13459967 0.12806373 0.13031046 0.12724673 0.13521242\n",
            " 0.14522059 0.15257353 0.14848856 0.14338235 0.14562908 0.15236928\n",
            " 0.15400327 0.14971405 0.1621732  0.16319444 0.16584967 0.1637868\n",
            " 0.1645906  0.16438772 0.16387624 0.16327168 0.16264427 0.16202411\n",
            " 0.16142786 0.16086544 0.16034319 0.15986483 0.15943249 0.15904683\n",
            " 0.15870714 0.15841183 0.1581583  0.15794334 0.15776332 0.15761426\n",
            " 0.15749224 0.15739329 0.15731376 0.15725015]\n",
            "23 day output [[0.1571994]]\n",
            "24 day input [0.17708333 0.17810458 0.18055556 0.17810458 0.17851307 0.19607843\n",
            " 0.18913399 0.18954248 0.19403595 0.19444444 0.20200163 0.19771242\n",
            " 0.19934641 0.19873366 0.1997549  0.2128268  0.21568627 0.20445261\n",
            " 0.21772876 0.21098856 0.21425654 0.19750817 0.18811275 0.17851307\n",
            " 0.17381536 0.16033497 0.16564542 0.17116013 0.17422386 0.18035131\n",
            " 0.17401961 0.16278595 0.16973039 0.17810458 0.17034314 0.16830065\n",
            " 0.17279412 0.17544935 0.18382353 0.19138072 0.18913399 0.19097222\n",
            " 0.17238562 0.16830065 0.1693219  0.17177288 0.16156046 0.14971405\n",
            " 0.1503268  0.15196078 0.14726307 0.14501634 0.14603758 0.12479575\n",
            " 0.13112745 0.11397059 0.1190768  0.12377451 0.13562092 0.12908497\n",
            " 0.13459967 0.12806373 0.13031046 0.12724673 0.13521242 0.14522059\n",
            " 0.15257353 0.14848856 0.14338235 0.14562908 0.15236928 0.15400327\n",
            " 0.14971405 0.1621732  0.16319444 0.16584967 0.1637868  0.1645906\n",
            " 0.16438772 0.16387624 0.16327168 0.16264427 0.16202411 0.16142786\n",
            " 0.16086544 0.16034319 0.15986483 0.15943249 0.15904683 0.15870714\n",
            " 0.15841183 0.1581583  0.15794334 0.15776332 0.15761426 0.15749224\n",
            " 0.15739329 0.15731376 0.15725015 0.1571994 ]\n",
            "24 day output [[0.15715873]]\n",
            "25 day input [0.17810458 0.18055556 0.17810458 0.17851307 0.19607843 0.18913399\n",
            " 0.18954248 0.19403595 0.19444444 0.20200163 0.19771242 0.19934641\n",
            " 0.19873366 0.1997549  0.2128268  0.21568627 0.20445261 0.21772876\n",
            " 0.21098856 0.21425654 0.19750817 0.18811275 0.17851307 0.17381536\n",
            " 0.16033497 0.16564542 0.17116013 0.17422386 0.18035131 0.17401961\n",
            " 0.16278595 0.16973039 0.17810458 0.17034314 0.16830065 0.17279412\n",
            " 0.17544935 0.18382353 0.19138072 0.18913399 0.19097222 0.17238562\n",
            " 0.16830065 0.1693219  0.17177288 0.16156046 0.14971405 0.1503268\n",
            " 0.15196078 0.14726307 0.14501634 0.14603758 0.12479575 0.13112745\n",
            " 0.11397059 0.1190768  0.12377451 0.13562092 0.12908497 0.13459967\n",
            " 0.12806373 0.13031046 0.12724673 0.13521242 0.14522059 0.15257353\n",
            " 0.14848856 0.14338235 0.14562908 0.15236928 0.15400327 0.14971405\n",
            " 0.1621732  0.16319444 0.16584967 0.1637868  0.1645906  0.16438772\n",
            " 0.16387624 0.16327168 0.16264427 0.16202411 0.16142786 0.16086544\n",
            " 0.16034319 0.15986483 0.15943249 0.15904683 0.15870714 0.15841183\n",
            " 0.1581583  0.15794334 0.15776332 0.15761426 0.15749224 0.15739329\n",
            " 0.15731376 0.15725015 0.1571994  0.15715873]\n",
            "25 day output [[0.15712573]]\n",
            "26 day input [0.18055556 0.17810458 0.17851307 0.19607843 0.18913399 0.18954248\n",
            " 0.19403595 0.19444444 0.20200163 0.19771242 0.19934641 0.19873366\n",
            " 0.1997549  0.2128268  0.21568627 0.20445261 0.21772876 0.21098856\n",
            " 0.21425654 0.19750817 0.18811275 0.17851307 0.17381536 0.16033497\n",
            " 0.16564542 0.17116013 0.17422386 0.18035131 0.17401961 0.16278595\n",
            " 0.16973039 0.17810458 0.17034314 0.16830065 0.17279412 0.17544935\n",
            " 0.18382353 0.19138072 0.18913399 0.19097222 0.17238562 0.16830065\n",
            " 0.1693219  0.17177288 0.16156046 0.14971405 0.1503268  0.15196078\n",
            " 0.14726307 0.14501634 0.14603758 0.12479575 0.13112745 0.11397059\n",
            " 0.1190768  0.12377451 0.13562092 0.12908497 0.13459967 0.12806373\n",
            " 0.13031046 0.12724673 0.13521242 0.14522059 0.15257353 0.14848856\n",
            " 0.14338235 0.14562908 0.15236928 0.15400327 0.14971405 0.1621732\n",
            " 0.16319444 0.16584967 0.1637868  0.1645906  0.16438772 0.16387624\n",
            " 0.16327168 0.16264427 0.16202411 0.16142786 0.16086544 0.16034319\n",
            " 0.15986483 0.15943249 0.15904683 0.15870714 0.15841183 0.1581583\n",
            " 0.15794334 0.15776332 0.15761426 0.15749224 0.15739329 0.15731376\n",
            " 0.15725015 0.1571994  0.15715873 0.15712573]\n",
            "26 day output [[0.15709843]]\n",
            "27 day input [0.17810458 0.17851307 0.19607843 0.18913399 0.18954248 0.19403595\n",
            " 0.19444444 0.20200163 0.19771242 0.19934641 0.19873366 0.1997549\n",
            " 0.2128268  0.21568627 0.20445261 0.21772876 0.21098856 0.21425654\n",
            " 0.19750817 0.18811275 0.17851307 0.17381536 0.16033497 0.16564542\n",
            " 0.17116013 0.17422386 0.18035131 0.17401961 0.16278595 0.16973039\n",
            " 0.17810458 0.17034314 0.16830065 0.17279412 0.17544935 0.18382353\n",
            " 0.19138072 0.18913399 0.19097222 0.17238562 0.16830065 0.1693219\n",
            " 0.17177288 0.16156046 0.14971405 0.1503268  0.15196078 0.14726307\n",
            " 0.14501634 0.14603758 0.12479575 0.13112745 0.11397059 0.1190768\n",
            " 0.12377451 0.13562092 0.12908497 0.13459967 0.12806373 0.13031046\n",
            " 0.12724673 0.13521242 0.14522059 0.15257353 0.14848856 0.14338235\n",
            " 0.14562908 0.15236928 0.15400327 0.14971405 0.1621732  0.16319444\n",
            " 0.16584967 0.1637868  0.1645906  0.16438772 0.16387624 0.16327168\n",
            " 0.16264427 0.16202411 0.16142786 0.16086544 0.16034319 0.15986483\n",
            " 0.15943249 0.15904683 0.15870714 0.15841183 0.1581583  0.15794334\n",
            " 0.15776332 0.15761426 0.15749224 0.15739329 0.15731376 0.15725015\n",
            " 0.1571994  0.15715873 0.15712573 0.15709843]\n",
            "27 day output [[0.15707509]]\n",
            "28 day input [0.17851307 0.19607843 0.18913399 0.18954248 0.19403595 0.19444444\n",
            " 0.20200163 0.19771242 0.19934641 0.19873366 0.1997549  0.2128268\n",
            " 0.21568627 0.20445261 0.21772876 0.21098856 0.21425654 0.19750817\n",
            " 0.18811275 0.17851307 0.17381536 0.16033497 0.16564542 0.17116013\n",
            " 0.17422386 0.18035131 0.17401961 0.16278595 0.16973039 0.17810458\n",
            " 0.17034314 0.16830065 0.17279412 0.17544935 0.18382353 0.19138072\n",
            " 0.18913399 0.19097222 0.17238562 0.16830065 0.1693219  0.17177288\n",
            " 0.16156046 0.14971405 0.1503268  0.15196078 0.14726307 0.14501634\n",
            " 0.14603758 0.12479575 0.13112745 0.11397059 0.1190768  0.12377451\n",
            " 0.13562092 0.12908497 0.13459967 0.12806373 0.13031046 0.12724673\n",
            " 0.13521242 0.14522059 0.15257353 0.14848856 0.14338235 0.14562908\n",
            " 0.15236928 0.15400327 0.14971405 0.1621732  0.16319444 0.16584967\n",
            " 0.1637868  0.1645906  0.16438772 0.16387624 0.16327168 0.16264427\n",
            " 0.16202411 0.16142786 0.16086544 0.16034319 0.15986483 0.15943249\n",
            " 0.15904683 0.15870714 0.15841183 0.1581583  0.15794334 0.15776332\n",
            " 0.15761426 0.15749224 0.15739329 0.15731376 0.15725015 0.1571994\n",
            " 0.15715873 0.15712573 0.15709843 0.15707509]\n",
            "28 day output [[0.15705438]]\n",
            "29 day input [0.19607843 0.18913399 0.18954248 0.19403595 0.19444444 0.20200163\n",
            " 0.19771242 0.19934641 0.19873366 0.1997549  0.2128268  0.21568627\n",
            " 0.20445261 0.21772876 0.21098856 0.21425654 0.19750817 0.18811275\n",
            " 0.17851307 0.17381536 0.16033497 0.16564542 0.17116013 0.17422386\n",
            " 0.18035131 0.17401961 0.16278595 0.16973039 0.17810458 0.17034314\n",
            " 0.16830065 0.17279412 0.17544935 0.18382353 0.19138072 0.18913399\n",
            " 0.19097222 0.17238562 0.16830065 0.1693219  0.17177288 0.16156046\n",
            " 0.14971405 0.1503268  0.15196078 0.14726307 0.14501634 0.14603758\n",
            " 0.12479575 0.13112745 0.11397059 0.1190768  0.12377451 0.13562092\n",
            " 0.12908497 0.13459967 0.12806373 0.13031046 0.12724673 0.13521242\n",
            " 0.14522059 0.15257353 0.14848856 0.14338235 0.14562908 0.15236928\n",
            " 0.15400327 0.14971405 0.1621732  0.16319444 0.16584967 0.1637868\n",
            " 0.1645906  0.16438772 0.16387624 0.16327168 0.16264427 0.16202411\n",
            " 0.16142786 0.16086544 0.16034319 0.15986483 0.15943249 0.15904683\n",
            " 0.15870714 0.15841183 0.1581583  0.15794334 0.15776332 0.15761426\n",
            " 0.15749224 0.15739329 0.15731376 0.15725015 0.1571994  0.15715873\n",
            " 0.15712573 0.15709843 0.15707509 0.15705438]\n",
            "29 day output [[0.15703519]]\n",
            "[[0.16378679871559143], [0.16459059715270996], [0.16438771784305573], [0.1638762354850769], [0.1632716804742813], [0.16264426708221436], [0.1620241105556488], [0.16142785549163818], [0.1608654409646988], [0.16034318506717682], [0.15986482799053192], [0.15943248569965363], [0.15904682874679565], [0.1587071418762207], [0.15841183066368103], [0.1581583023071289], [0.15794333815574646], [0.1577633172273636], [0.15761426091194153], [0.1574922353029251], [0.15739329159259796], [0.1573137640953064], [0.15725015103816986], [0.15719939768314362], [0.1571587324142456], [0.15712572634220123], [0.1570984274148941], [0.15707509219646454], [0.1570543795824051], [0.15703518688678741]]\n"
          ]
        }
      ]
    },
    {
      "cell_type": "code",
      "source": [
        "day_new=np.arange(1,101)\n",
        "day_pred=np.arange(101,131)\n",
        "len(df)"
      ],
      "metadata": {
        "colab": {
          "base_uri": "https://localhost:8080/"
        },
        "id": "Go-yaObVkk7B",
        "outputId": "160b919e-d09e-4cf6-8ded-f3982535b7cb"
      },
      "execution_count": null,
      "outputs": [
        {
          "output_type": "execute_result",
          "data": {
            "text/plain": [
              "2035"
            ]
          },
          "metadata": {},
          "execution_count": 59
        }
      ]
    },
    {
      "cell_type": "markdown",
      "source": [
        "Graph of 100 last days"
      ],
      "metadata": {
        "id": "cw0KhnzBkxeI"
      }
    },
    {
      "cell_type": "code",
      "source": [
        "plt.plot(day_new,scaler.inverse_transform(df[1935:]),label='100 day previous data')\n",
        "plt.plot(day_pred,scaler.inverse_transform(lst_output),label='Diffused output afterwards \\napprox for continuity')\n",
        "plt.legend()"
      ],
      "metadata": {
        "colab": {
          "base_uri": "https://localhost:8080/",
          "height": 447
        },
        "id": "LMy8-3qnks7j",
        "outputId": "8da8cdb0-b4ff-4bcf-dac8-325b0164db9a"
      },
      "execution_count": null,
      "outputs": [
        {
          "output_type": "execute_result",
          "data": {
            "text/plain": [
              "<matplotlib.legend.Legend at 0x7eddb1775cf0>"
            ]
          },
          "metadata": {},
          "execution_count": 60
        },
        {
          "output_type": "display_data",
          "data": {
            "text/plain": [
              "<Figure size 640x480 with 1 Axes>"
            ],
            "image/png": "[encoded data removed]"
          },
          "metadata": {}
        }
      ]
    },
    {
      "cell_type": "markdown",
      "source": [
        "Graph for the\n",
        "30 Days"
      ],
      "metadata": {
        "id": "PS_7ZqWDk_8r"
      }
    },
    {
      "cell_type": "code",
      "source": [
        "df1=df.tolist()\n",
        "df1.extend(lst_output)\n",
        "plt.plot(scaler.inverse_transform(df1[1990:]),color='red',label='30 Days Prediction')\n",
        "plt.legend()"
      ],
      "metadata": {
        "colab": {
          "base_uri": "https://localhost:8080/",
          "height": 447
        },
        "id": "qU5uOwzTk1Fu",
        "outputId": "3d7d0d6f-e80b-4d51-d1e2-d3c1dabd6ed4"
      },
      "execution_count": null,
      "outputs": [
        {
          "output_type": "execute_result",
          "data": {
            "text/plain": [
              "<matplotlib.legend.Legend at 0x7eddb1a4a860>"
            ]
          },
          "metadata": {},
          "execution_count": 61
        },
        {
          "output_type": "display_data",
          "data": {
            "text/plain": [
              "<Figure size 640x480 with 1 Axes>"
            ],
            "image/png": "[encoded data removed]"
          },
          "metadata": {}
        }
      ]
    },
    {
      "cell_type": "markdown",
      "source": [
        "Graph for the 130 days"
      ],
      "metadata": {
        "id": "hr-M30K3lGnz"
      }
    },
    {
      "cell_type": "code",
      "source": [
        "plt.plot(day_new-100,scaler.inverse_transform(df[1935:]),label='100 day previous data')\n",
        "plt.plot(scaler.inverse_transform(df1[1990:]),color='red',label='30 Days Prediction')\n",
        "plt.legend()"
      ],
      "metadata": {
        "colab": {
          "base_uri": "https://localhost:8080/",
          "height": 447
        },
        "id": "XFzIEzZyk7kP",
        "outputId": "9f8a0535-c15b-4d2d-b628-4566eb3486ed"
      },
      "execution_count": null,
      "outputs": [
        {
          "output_type": "execute_result",
          "data": {
            "text/plain": [
              "<matplotlib.legend.Legend at 0x7eddb17df1c0>"
            ]
          },
          "metadata": {},
          "execution_count": 62
        },
        {
          "output_type": "display_data",
          "data": {
            "text/plain": [
              "<Figure size 640x480 with 1 Axes>"
            ],
            "image/png": "[encoded data removed]"
          },
          "metadata": {}
        }
      ]
    }
  ]
}